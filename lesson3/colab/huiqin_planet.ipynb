{
  "nbformat": 4,
  "nbformat_minor": 0,
  "metadata": {
    "colab": {
      "name": "huiqin_planet.ipynb",
      "version": "0.3.2",
      "views": {},
      "default_view": {},
      "provenance": [],
      "collapsed_sections": []
    },
    "kernelspec": {
      "name": "python3",
      "display_name": "Python 3"
    },
    "accelerator": "GPU"
  },
  "cells": [
    {
      "metadata": {
        "id": "j3JhQ-X5NKgi",
        "colab_type": "text"
      },
      "cell_type": "markdown",
      "source": [
        "## Installation & Download Data\n",
        "You only have to run once to install and download neccessary data."
      ]
    },
    {
      "metadata": {
        "id": "EKQwQrkdMqkh",
        "colab_type": "code",
        "colab": {
          "autoexec": {
            "startup": false,
            "wait_interval": 0
          },
          "output_extras": [
            {
              "item_id": 21
            },
            {
              "item_id": 39
            },
            {
              "item_id": 49
            },
            {
              "item_id": 79
            }
          ],
          "base_uri": "https://localhost:8080/",
          "height": 3369
        },
        "outputId": "cbe6f61b-773e-47a6-859d-335a7f1378f5",
        "executionInfo": {
          "status": "ok",
          "timestamp": 1520492548512,
          "user_tz": -480,
          "elapsed": 217587,
          "user": {
            "displayName": "Ng Hui Qin",
            "photoUrl": "//lh5.googleusercontent.com/-bHpTdW7TTQU/AAAAAAAAAAI/AAAAAAAAChc/oIeKcp8bFGQ/s50-c-k-no/photo.jpg",
            "userId": "112745525796164686528"
          }
        }
      },
      "cell_type": "code",
      "source": [
        "!pip install fastai"
      ],
      "execution_count": 1,
      "outputs": [
        {
          "output_type": "stream",
          "text": [
            "Collecting fastai\n",
            "  Downloading fastai-0.6.tar.gz (429kB)\n",
            "\u001b[K    100% |████████████████████████████████| 430kB 2.4MB/s \n",
            "\u001b[?25hRequirement already satisfied: Jinja2 in /usr/local/lib/python3.6/dist-packages (from fastai)\n",
            "Requirement already satisfied: MarkupSafe in /usr/local/lib/python3.6/dist-packages (from fastai)\n",
            "Requirement already satisfied: Pillow in /usr/local/lib/python3.6/dist-packages (from fastai)\n",
            "Requirement already satisfied: PyYAML in /usr/local/lib/python3.6/dist-packages (from fastai)\n",
            "Requirement already satisfied: Pygments in /usr/local/lib/python3.6/dist-packages (from fastai)\n",
            "Collecting awscli (from fastai)\n",
            "  Downloading awscli-1.14.52-py2.py3-none-any.whl (1.2MB)\n",
            "\u001b[K    100% |████████████████████████████████| 1.2MB 1.0MB/s \n",
            "\u001b[?25hCollecting bcolz (from fastai)\n",
            "  Downloading bcolz-1.1.2.tar.gz (1.3MB)\n",
            "\u001b[K    100% |████████████████████████████████| 1.3MB 1.0MB/s \n",
            "\u001b[?25hRequirement already satisfied: bleach in /usr/local/lib/python3.6/dist-packages (from fastai)\n",
            "Requirement already satisfied: certifi in /usr/local/lib/python3.6/dist-packages (from fastai)\n",
            "Requirement already satisfied: cycler in /usr/local/lib/python3.6/dist-packages (from fastai)\n",
            "Requirement already satisfied: decorator in /usr/local/lib/python3.6/dist-packages (from fastai)\n",
            "Requirement already satisfied: entrypoints in /usr/local/lib/python3.6/dist-packages (from fastai)\n",
            "Collecting feather-format (from fastai)\n",
            "  Downloading feather-format-0.4.0.tar.gz\n",
            "Collecting graphviz (from fastai)\n",
            "  Downloading graphviz-0.8.2-py2.py3-none-any.whl\n",
            "Requirement already satisfied: html5lib in /usr/local/lib/python3.6/dist-packages (from fastai)\n",
            "Requirement already satisfied: ipykernel in /usr/local/lib/python3.6/dist-packages (from fastai)\n",
            "Requirement already satisfied: ipython in /usr/local/lib/python3.6/dist-packages (from fastai)\n",
            "Requirement already satisfied: ipython-genutils in /usr/local/lib/python3.6/dist-packages (from fastai)\n",
            "Collecting ipywidgets (from fastai)\n",
            "  Downloading ipywidgets-7.1.2-py2.py3-none-any.whl (68kB)\n",
            "\u001b[K    100% |████████████████████████████████| 71kB 9.4MB/s \n",
            "\u001b[?25hCollecting isoweek (from fastai)\n",
            "  Downloading isoweek-1.3.3-py2.py3-none-any.whl\n",
            "Collecting jedi (from fastai)\n",
            "  Downloading jedi-0.11.1-py2.py3-none-any.whl (250kB)\n",
            "\u001b[K    100% |████████████████████████████████| 256kB 4.0MB/s \n",
            "\u001b[?25hRequirement already satisfied: jsonschema in /usr/local/lib/python3.6/dist-packages (from fastai)\n",
            "Collecting jupyter (from fastai)\n",
            "  Downloading jupyter-1.0.0-py2.py3-none-any.whl\n",
            "Requirement already satisfied: jupyter-client in /usr/local/lib/python3.6/dist-packages (from fastai)\n",
            "Collecting jupyter-console (from fastai)\n",
            "  Downloading jupyter_console-5.2.0-py2.py3-none-any.whl\n",
            "Requirement already satisfied: jupyter-core in /usr/local/lib/python3.6/dist-packages (from fastai)\n",
            "Collecting jupyter_contrib_nbextensions (from fastai)\n",
            "  Downloading jupyter_contrib_nbextensions-0.4.0-py2.py3-none-any.whl (20.8MB)\n",
            "\u001b[K    100% |████████████████████████████████| 20.8MB 65kB/s \n",
            "\u001b[?25hCollecting kaggle-cli (from fastai)\n",
            "  Downloading kaggle-cli-0.12.13.tar.gz\n",
            "Requirement already satisfied: matplotlib in /usr/local/lib/python3.6/dist-packages (from fastai)\n",
            "Requirement already satisfied: mistune in /usr/local/lib/python3.6/dist-packages (from fastai)\n",
            "Requirement already satisfied: nbconvert in /usr/local/lib/python3.6/dist-packages (from fastai)\n",
            "Requirement already satisfied: nbformat in /usr/local/lib/python3.6/dist-packages (from fastai)\n",
            "Requirement already satisfied: notebook in /usr/local/lib/python3.6/dist-packages (from fastai)\n",
            "Requirement already satisfied: numpy in /usr/local/lib/python3.6/dist-packages (from fastai)\n",
            "Requirement already satisfied: olefile in /usr/local/lib/python3.6/dist-packages (from fastai)\n"
          ],
          "name": "stdout"
        },
        {
          "output_type": "stream",
          "text": [
            "Collecting opencv-python (from fastai)\n",
            "  Downloading opencv_python-3.4.0.12-cp36-cp36m-manylinux1_x86_64.whl (24.9MB)\n",
            "\u001b[K    100% |████████████████████████████████| 24.9MB 56kB/s \n",
            "\u001b[?25hRequirement already satisfied: pandas in /usr/local/lib/python3.6/dist-packages (from fastai)\n",
            "Collecting pandas_summary (from fastai)\n",
            "  Downloading pandas-summary-0.0.41.tar.gz\n",
            "Requirement already satisfied: pandocfilters in /usr/local/lib/python3.6/dist-packages (from fastai)\n",
            "Requirement already satisfied: pexpect in /usr/local/lib/python3.6/dist-packages (from fastai)\n",
            "Requirement already satisfied: pickleshare in /usr/local/lib/python3.6/dist-packages (from fastai)\n",
            "Collecting plotnine (from fastai)\n",
            "  Downloading plotnine-0.3.0-py2.py3-none-any.whl (3.4MB)\n",
            "\u001b[K    100% |████████████████████████████████| 3.4MB 406kB/s \n",
            "\u001b[?25hRequirement already satisfied: prompt-toolkit in /usr/local/lib/python3.6/dist-packages (from fastai)\n",
            "Requirement already satisfied: ptyprocess in /usr/local/lib/python3.6/dist-packages (from fastai)\n",
            "Requirement already satisfied: pyparsing in /usr/local/lib/python3.6/dist-packages (from fastai)\n",
            "Requirement already satisfied: python-dateutil in /usr/local/lib/python3.6/dist-packages (from fastai)\n",
            "Requirement already satisfied: pytz in /usr/local/lib/python3.6/dist-packages (from fastai)\n",
            "Requirement already satisfied: pyzmq in /usr/local/lib/python3.6/dist-packages (from fastai)\n",
            "Collecting qtconsole (from fastai)\n",
            "  Downloading qtconsole-4.3.1-py2.py3-none-any.whl (108kB)\n",
            "\u001b[K    100% |████████████████████████████████| 112kB 9.6MB/s \n",
            "\u001b[?25hRequirement already satisfied: scipy in /usr/local/lib/python3.6/dist-packages (from fastai)\n",
            "Requirement already satisfied: seaborn in /usr/local/lib/python3.6/dist-packages (from fastai)\n",
            "Requirement already satisfied: simplegeneric in /usr/local/lib/python3.6/dist-packages (from fastai)\n",
            "Requirement already satisfied: six in /usr/local/lib/python3.6/dist-packages (from fastai)\n",
            "Collecting sklearn_pandas (from fastai)\n",
            "  Downloading sklearn_pandas-1.6.0-py2.py3-none-any.whl\n",
            "Requirement already satisfied: terminado in /usr/local/lib/python3.6/dist-packages (from fastai)\n",
            "Requirement already satisfied: testpath in /usr/local/lib/python3.6/dist-packages (from fastai)\n",
            "Collecting torchtext (from fastai)\n",
            "  Downloading torchtext-0.2.1-py3-none-any.whl (41kB)\n",
            "\u001b[K    100% |████████████████████████████████| 51kB 11.9MB/s \n",
            "\u001b[?25hRequirement already satisfied: tornado in /usr/local/lib/python3.6/dist-packages (from fastai)\n",
            "Collecting tqdm (from fastai)\n",
            "  Downloading tqdm-4.19.6-py2.py3-none-any.whl (52kB)\n",
            "\u001b[K    100% |████████████████████████████████| 61kB 11.1MB/s \n",
            "\u001b[?25hRequirement already satisfied: traitlets in /usr/local/lib/python3.6/dist-packages (from fastai)\n",
            "Requirement already satisfied: wcwidth in /usr/local/lib/python3.6/dist-packages (from fastai)\n",
            "Requirement already satisfied: webencodings in /usr/local/lib/python3.6/dist-packages (from fastai)\n",
            "Collecting widgetsnbextension (from fastai)\n",
            "  Downloading widgetsnbextension-3.1.4-py2.py3-none-any.whl (2.2MB)\n",
            "\u001b[K    100% |████████████████████████████████| 2.2MB 598kB/s \n",
            "\u001b[?25hCollecting colorama<=0.3.7,>=0.2.5 (from awscli->fastai)\n",
            "  Downloading colorama-0.3.7-py2.py3-none-any.whl\n",
            "Collecting s3transfer<0.2.0,>=0.1.12 (from awscli->fastai)\n",
            "  Downloading s3transfer-0.1.13-py2.py3-none-any.whl (59kB)\n",
            "\u001b[K    100% |████████████████████████████████| 61kB 10.5MB/s \n",
            "\u001b[?25hCollecting botocore==1.9.5 (from awscli->fastai)\n",
            "  Downloading botocore-1.9.5-py2.py3-none-any.whl (4.1MB)\n",
            "\u001b[K    100% |████████████████████████████████| 4.1MB 327kB/s \n",
            "\u001b[?25hRequirement already satisfied: rsa<=3.5.0,>=3.1.2 in /usr/local/lib/python3.6/dist-packages (from awscli->fastai)\n",
            "Collecting docutils>=0.10 (from awscli->fastai)\n",
            "  Downloading docutils-0.14-py3-none-any.whl (543kB)\n",
            "\u001b[K    100% |████████████████████████████████| 552kB 2.3MB/s \n",
            "\u001b[?25hCollecting pyarrow>=0.4.0 (from feather-format->fastai)\n",
            "  Downloading pyarrow-0.8.0-cp36-cp36m-manylinux1_x86_64.whl (6.9MB)\n",
            "\u001b[K    84% |███████████████████████████▏    | 5.9MB 45.9MB/s eta 0:00:01"
          ],
          "name": "stdout"
        },
        {
          "output_type": "stream",
          "text": [
            "\u001b[K    100% |████████████████████████████████| 6.9MB 195kB/s \n",
            "\u001b[?25hRequirement already satisfied: setuptools>=18.5 in /usr/lib/python3/dist-packages (from ipython->fastai)\n",
            "Collecting parso==0.1.1 (from jedi->fastai)\n",
            "  Downloading parso-0.1.1-py2.py3-none-any.whl (91kB)\n",
            "\u001b[K    100% |████████████████████████████████| 92kB 7.5MB/s \n",
            "\u001b[?25hCollecting jupyter-contrib-core>=0.3.3 (from jupyter_contrib_nbextensions->fastai)\n",
            "  Downloading jupyter_contrib_core-0.3.3-py2.py3-none-any.whl\n",
            "Collecting jupyter-nbextensions-configurator>=0.4.0 (from jupyter_contrib_nbextensions->fastai)\n",
            "  Downloading jupyter_nbextensions_configurator-0.4.0-py2.py3-none-any.whl (466kB)\n",
            "\u001b[K    100% |████████████████████████████████| 471kB 2.7MB/s \n",
            "\u001b[?25hCollecting lxml (from jupyter_contrib_nbextensions->fastai)\n",
            "  Downloading lxml-4.1.1-cp36-cp36m-manylinux1_x86_64.whl (5.6MB)\n",
            "\u001b[K    100% |████████████████████████████████| 5.6MB 248kB/s \n",
            "\u001b[?25hCollecting jupyter-highlight-selected-word>=0.0.10 (from jupyter_contrib_nbextensions->fastai)\n",
            "  Downloading jupyter_highlight_selected_word-0.1.0-py2.py3-none-any.whl\n",
            "Collecting jupyter-latex-envs>=1.3.8 (from jupyter_contrib_nbextensions->fastai)\n",
            "  Downloading jupyter_latex_envs-1.4.4.tar.gz (855kB)\n",
            "\u001b[K    100% |████████████████████████████████| 860kB 1.5MB/s \n",
            "\u001b[?25hCollecting MechanicalSoup<0.9,>=0.7.0 (from kaggle-cli->fastai)\n",
            "  Downloading MechanicalSoup-0.8.0-py2.py3-none-any.whl\n",
            "Requirement already satisfied: beautifulsoup4<4.7,>=4.6.0 in /usr/local/lib/python3.6/dist-packages (from kaggle-cli->fastai)\n",
            "Collecting cliff<2.9,>=2.8.0 (from kaggle-cli->fastai)\n",
            "  Downloading cliff-2.8.0.tar.gz (71kB)\n",
            "\u001b[K    100% |████████████████████████████████| 81kB 11.0MB/s \n",
            "\u001b[?25hCollecting configparser (from kaggle-cli->fastai)\n",
            "  Downloading configparser-3.5.0.tar.gz\n",
            "Collecting cssselect<1.1,>=1.0.1 (from kaggle-cli->fastai)\n",
            "  Downloading cssselect-1.0.3-py2.py3-none-any.whl\n",
            "Collecting progressbar2<3.35,>=3.34.3 (from kaggle-cli->fastai)\n",
            "  Downloading progressbar2-3.34.3-py2.py3-none-any.whl\n",
            "Collecting mizani>=0.4.1 (from plotnine->fastai)\n",
            "  Downloading mizani-0.4.4-py2.py3-none-any.whl (65kB)\n",
            "\u001b[K    100% |████████████████████████████████| 71kB 11.0MB/s \n",
            "\u001b[?25hRequirement already satisfied: statsmodels>=0.8.0 in /usr/local/lib/python3.6/dist-packages (from plotnine->fastai)\n",
            "Requirement already satisfied: patsy>=0.4.1 in /usr/local/lib/python3.6/dist-packages (from plotnine->fastai)\n",
            "Requirement already satisfied: scikit-learn>=0.15.0 in /usr/local/lib/python3.6/dist-packages (from sklearn_pandas->fastai)\n",
            "Requirement already satisfied: requests in /usr/local/lib/python3.6/dist-packages (from torchtext->fastai)\n",
            "Collecting jmespath<1.0.0,>=0.7.1 (from botocore==1.9.5->awscli->fastai)\n",
            "  Downloading jmespath-0.9.3-py2.py3-none-any.whl\n",
            "Requirement already satisfied: pyasn1>=0.1.3 in /usr/local/lib/python3.6/dist-packages (from rsa<=3.5.0,>=3.1.2->awscli->fastai)\n",
            "Collecting PrettyTable<0.8,>=0.7.1 (from cliff<2.9,>=2.8.0->kaggle-cli->fastai)\n",
            "  Downloading prettytable-0.7.2.zip\n",
            "Collecting cmd2>=0.6.7 (from cliff<2.9,>=2.8.0->kaggle-cli->fastai)\n",
            "  Downloading cmd2-0.8.0.tar.gz (75kB)\n",
            "\u001b[K    100% |████████████████████████████████| 81kB 10.2MB/s \n",
            "\u001b[?25hCollecting pbr!=2.1.0,>=2.0.0 (from cliff<2.9,>=2.8.0->kaggle-cli->fastai)\n",
            "  Downloading pbr-3.1.1-py2.py3-none-any.whl (99kB)\n",
            "\u001b[K    100% |████████████████████████████████| 102kB 8.6MB/s \n",
            "\u001b[?25hCollecting stevedore>=1.20.0 (from cliff<2.9,>=2.8.0->kaggle-cli->fastai)\n",
            "  Downloading stevedore-1.28.0-py2.py3-none-any.whl\n",
            "Collecting python-utils>=2.1.0 (from progressbar2<3.35,>=3.34.3->kaggle-cli->fastai)\n",
            "  Downloading python_utils-2.3.0-py2.py3-none-any.whl\n",
            "Collecting palettable (from mizani>=0.4.1->plotnine->fastai)\n",
            "  Downloading palettable-3.1.0-py2.py3-none-any.whl (78kB)\n",
            "\u001b[K    100% |████████████████████████████████| 81kB 10.6MB/s \n",
            "\u001b[?25hRequirement already satisfied: chardet<3.1.0,>=3.0.2 in /usr/local/lib/python3.6/dist-packages (from requests->torchtext->fastai)\n",
            "Requirement already satisfied: urllib3<1.23,>=1.21.1 in /usr/local/lib/python3.6/dist-packages (from requests->torchtext->fastai)\n"
          ],
          "name": "stdout"
        },
        {
          "output_type": "stream",
          "text": [
            "Requirement already satisfied: idna<2.7,>=2.5 in /usr/local/lib/python3.6/dist-packages (from requests->torchtext->fastai)\n",
            "Collecting pyperclip (from cmd2>=0.6.7->cliff<2.9,>=2.8.0->kaggle-cli->fastai)\n",
            "  Downloading pyperclip-1.6.0.tar.gz\n",
            "Building wheels for collected packages: fastai, bcolz, feather-format, kaggle-cli, pandas-summary, jupyter-latex-envs, cliff, configparser, PrettyTable, cmd2, pyperclip\n",
            "  Running setup.py bdist_wheel for fastai ... \u001b[?25l-\b \b\\\b \bdone\n",
            "\u001b[?25h  Stored in directory: /content/.cache/pip/wheels/13/6b/e1/1f1c38574e6abf3cfd747b345213ed1a4e2bf149646e16408d\n",
            "  Running setup.py bdist_wheel for bcolz ... \u001b[?25l-\b \b\\\b \b|\b \b/\b \b-\b \b\\\b \b|\b \b/\b \b-\b \b\\\b \b|\b \b/\b \b-\b \b\\\b \b|\b \b/\b \b-\b \b\\\b \b|\b \b/\b \b-\b \b\\\b \b|\b \b/\b \b-\b \b\\\b \b|\b \b/\b \b-\b \b\\\b \b|\b \b/\b \b-\b \b\\\b \b|\b \b/\b \b-\b \b\\\b \b|\b \b/\b \b-\b \b\\\b \b|\b \b/\b \b-\b \b\\\b \b|\b \bdone\n",
            "\u001b[?25h  Stored in directory: /content/.cache/pip/wheels/e9/84/eb/f8f3caa627bb01ebc96034c3411f59870951246e5873b3f4c7\n",
            "  Running setup.py bdist_wheel for feather-format ... \u001b[?25l-\b \bdone\n",
            "\u001b[?25h  Stored in directory: /content/.cache/pip/wheels/9d/de/23/0ca11012cc6b573de3f8187727cfa97a8392a8605e331214e5\n",
            "  Running setup.py bdist_wheel for kaggle-cli ... \u001b[?25l-\b \bdone\n",
            "\u001b[?25h  Stored in directory: /content/.cache/pip/wheels/f0/3c/ff/c98870eeb0ca26250ce6a60dc9be23f547b7ef68b3d6a1c0b5\n",
            "  Running setup.py bdist_wheel for pandas-summary ... \u001b[?25l-\b \bdone\n",
            "\u001b[?25h  Stored in directory: /content/.cache/pip/wheels/20/29/c9/b3d9f2cbdb6f1eeeb98e263ae687d72e8138a26de91058bd0b\n",
            "  Running setup.py bdist_wheel for jupyter-latex-envs ... \u001b[?25l-\b \b\\\b \bdone\n",
            "\u001b[?25h  Stored in directory: /content/.cache/pip/wheels/8d/1a/c8/3a9f5e0105eb88e1972cd06fcca65d8b904dafe67afacc566b\n",
            "  Running setup.py bdist_wheel for cliff ... \u001b[?25l-\b \bdone\n",
            "\u001b[?25h  Stored in directory: /content/.cache/pip/wheels/27/4c/aa/0f67aa384e67aacc5629321b1a3f85892362d4e9e5cd3a20f1\n",
            "  Running setup.py bdist_wheel for configparser ... \u001b[?25l-\b \bdone\n",
            "\u001b[?25h  Stored in directory: /content/.cache/pip/wheels/1c/bd/b4/277af3f6c40645661b4cd1c21df26aca0f2e1e9714a1d4cda8\n",
            "  Running setup.py bdist_wheel for PrettyTable ... \u001b[?25l-\b \bdone\n",
            "\u001b[?25h  Stored in directory: /content/.cache/pip/wheels/b6/90/7b/1c22b89217d0eba6d5f406e562365ebee804f0d4595b2bdbcd\n",
            "  Running setup.py bdist_wheel for cmd2 ... \u001b[?25l-\b \bdone\n",
            "\u001b[?25h  Stored in directory: /content/.cache/pip/wheels/53/53/30/dd00e07ff8d6107238799cc0af24fa6fea8a198d7fb945c2df\n",
            "  Running setup.py bdist_wheel for pyperclip ... \u001b[?25l-\b \bdone\n",
            "\u001b[?25h  Stored in directory: /content/.cache/pip/wheels/a9/22/c3/8116911c3273f6aa0a90ce69c44fb8a6a0e139d79aeda5a73e\n",
            "Successfully built fastai bcolz feather-format kaggle-cli pandas-summary jupyter-latex-envs cliff configparser PrettyTable cmd2 pyperclip\n",
            "Installing collected packages: colorama, docutils, jmespath, botocore, s3transfer, awscli, bcolz, pyarrow, feather-format, graphviz, widgetsnbextension, ipywidgets, isoweek, parso, jedi, jupyter-console, qtconsole, jupyter, jupyter-contrib-core, jupyter-nbextensions-configurator, lxml, jupyter-highlight-selected-word, jupyter-latex-envs, jupyter-contrib-nbextensions, MechanicalSoup, PrettyTable, pyperclip, cmd2, pbr, stevedore, cliff, configparser, cssselect, python-utils, progressbar2, kaggle-cli, opencv-python, pandas-summary, palettable, mizani, plotnine, sklearn-pandas, tqdm, torchtext, fastai\n",
            "Successfully installed MechanicalSoup-0.8.0 PrettyTable-0.7.2 awscli-1.14.52 bcolz-1.1.2 botocore-1.9.5 cliff-2.8.0 cmd2-0.8.0 colorama-0.3.7 configparser-3.5.0 cssselect-1.0.3 docutils-0.14 fastai-0.6 feather-format-0.4.0 graphviz-0.8.2 ipywidgets-7.1.2 isoweek-1.3.3 jedi-0.11.1 jmespath-0.9.3 jupyter-1.0.0 jupyter-console-5.2.0 jupyter-contrib-core-0.3.3 jupyter-contrib-nbextensions-0.4.0 jupyter-highlight-selected-word-0.1.0 jupyter-latex-envs-1.4.4 jupyter-nbextensions-configurator-0.4.0 kaggle-cli-0.12.13 lxml-4.1.1 mizani-0.4.4 opencv-python-3.4.0.12 palettable-3.1.0 pandas-summary-0.0.41 parso-0.1.1 pbr-3.1.1 plotnine-0.3.0 progressbar2-3.34.3 pyarrow-0.8.0 pyperclip-1.6.0 python-utils-2.3.0 qtconsole-4.3.1 s3transfer-0.1.13 sklearn-pandas-1.6.0 stevedore-1.28.0 torchtext-0.2.1 tqdm-4.19.6 widgetsnbextension-3.1.4\n"
          ],
          "name": "stdout"
        }
      ]
    },
    {
      "metadata": {
        "id": "Io5kTDcHV226",
        "colab_type": "code",
        "colab": {
          "autoexec": {
            "startup": false,
            "wait_interval": 0
          },
          "output_extras": [
            {
              "item_id": 10
            },
            {
              "item_id": 48
            }
          ],
          "base_uri": "https://localhost:8080/",
          "height": 1360
        },
        "outputId": "4485bf12-225d-46ee-a837-9175b1b898c6",
        "executionInfo": {
          "status": "ok",
          "timestamp": 1520492603909,
          "user_tz": -480,
          "elapsed": 55369,
          "user": {
            "displayName": "Ng Hui Qin",
            "photoUrl": "//lh5.googleusercontent.com/-bHpTdW7TTQU/AAAAAAAAAAI/AAAAAAAAChc/oIeKcp8bFGQ/s50-c-k-no/photo.jpg",
            "userId": "112745525796164686528"
          }
        }
      },
      "cell_type": "code",
      "source": [
        "!pip install opencv-python\n",
        "!apt update && apt install -y libsm6 libxext6\n",
        "!pip3 install http://download.pytorch.org/whl/cu80/torch-0.3.0.post4-cp36-cp36m-linux_x86_64.whl \n",
        "!pip3 install torchvision"
      ],
      "execution_count": 2,
      "outputs": [
        {
          "output_type": "stream",
          "text": [
            "Requirement already satisfied: opencv-python in /usr/local/lib/python3.6/dist-packages\r\n",
            "Requirement already satisfied: numpy>=1.11.3 in /usr/local/lib/python3.6/dist-packages (from opencv-python)\n",
            "Hit:1 http://archive.ubuntu.com/ubuntu artful InRelease\n",
            "Get:2 http://security.ubuntu.com/ubuntu artful-security InRelease [78.6 kB]\n",
            "Get:3 http://archive.ubuntu.com/ubuntu artful-updates InRelease [78.6 kB]\n",
            "Get:4 http://security.ubuntu.com/ubuntu artful-security/universe Sources [12.0 kB]\n",
            "Get:5 http://archive.ubuntu.com/ubuntu artful-backports InRelease [72.2 kB]\n",
            "Get:6 http://security.ubuntu.com/ubuntu artful-security/universe amd64 Packages [55.0 kB]\n",
            "Get:7 http://security.ubuntu.com/ubuntu artful-security/main amd64 Packages [172 kB]\n",
            "Get:8 http://archive.ubuntu.com/ubuntu artful-updates/universe Sources [29.3 kB]\n",
            "Get:9 http://archive.ubuntu.com/ubuntu artful-updates/universe amd64 Packages [111 kB]\n",
            "Get:10 http://archive.ubuntu.com/ubuntu artful-updates/main amd64 Packages [285 kB]\n",
            "Get:11 http://archive.ubuntu.com/ubuntu artful-backports/universe amd64 Packages [3,587 B]\n",
            "Fetched 897 kB in 2s (434 kB/s)\n",
            "Reading package lists... Done\n",
            "Building dependency tree       \n",
            "Reading state information... Done\n",
            "36 packages can be upgraded. Run 'apt list --upgradable' to see them.\n",
            "Reading package lists... Done\n",
            "Building dependency tree       \n",
            "Reading state information... Done\n",
            "The following additional packages will be installed:\n",
            "  libice6 x11-common\n",
            "The following NEW packages will be installed:\n",
            "  libice6 libsm6 libxext6 x11-common\n",
            "0 upgraded, 4 newly installed, 0 to remove and 36 not upgraded.\n",
            "Need to get 108 kB of archives.\n",
            "After this operation, 626 kB of additional disk space will be used.\n",
            "Get:1 http://archive.ubuntu.com/ubuntu artful/main amd64 libxext6 amd64 2:1.3.3-1 [29.4 kB]\n",
            "Get:2 http://archive.ubuntu.com/ubuntu artful/main amd64 x11-common all 1:7.7+19ubuntu3 [22.0 kB]\n",
            "Get:3 http://archive.ubuntu.com/ubuntu artful/main amd64 libice6 amd64 2:1.0.9-2 [40.2 kB]\n",
            "Get:4 http://archive.ubuntu.com/ubuntu artful/main amd64 libsm6 amd64 2:1.2.2-1 [15.8 kB]\n",
            "Fetched 108 kB in 0s (123 kB/s)\n",
            "\n",
            "\u001b7\u001b[0;23r\u001b8\u001b[1ASelecting previously unselected package libxext6:amd64.\n",
            "(Reading database ... 16669 files and directories currently installed.)\n",
            "Preparing to unpack .../libxext6_2%3a1.3.3-1_amd64.deb ...\n",
            "\u001b7\u001b[24;0f\u001b[42m\u001b[30mProgress: [  0%]\u001b[49m\u001b[39m [..........................................................] \u001b8\u001b7\u001b[24;0f\u001b[42m\u001b[30mProgress: [  4%]\u001b[49m\u001b[39m [##........................................................] \u001b8Unpacking libxext6:amd64 (2:1.3.3-1) ...\n",
            "\u001b7\u001b[24;0f\u001b[42m\u001b[30mProgress: [  9%]\u001b[49m\u001b[39m [#####.....................................................] \u001b8\u001b7\u001b[24;0f\u001b[42m\u001b[30mProgress: [ 14%]\u001b[49m\u001b[39m [########..................................................] \u001b8Selecting previously unselected package x11-common.\n",
            "Preparing to unpack .../x11-common_1%3a7.7+19ubuntu3_all.deb ...\n",
            "\u001b7\u001b[24;0f\u001b[42m\u001b[30mProgress: [ 19%]\u001b[49m\u001b[39m [###########...............................................] \u001b8Unpacking x11-common (1:7.7+19ubuntu3) ...\n",
            "\u001b7\u001b[24;0f\u001b[42m\u001b[30mProgress: [ 23%]\u001b[49m\u001b[39m [#############.............................................] \u001b8\u001b7\u001b[24;0f\u001b[42m\u001b[30mProgress: [ 28%]\u001b[49m\u001b[39m [################..........................................] \u001b8Selecting previously unselected package libice6:amd64.\n",
            "Preparing to unpack .../libice6_2%3a1.0.9-2_amd64.deb ...\n",
            "\u001b7\u001b[24;0f\u001b[42m\u001b[30mProgress: [ 33%]\u001b[49m\u001b[39m [###################.......................................] \u001b8Unpacking libice6:amd64 (2:1.0.9-2) ...\n",
            "\u001b7\u001b[24;0f\u001b[42m\u001b[30mProgress: [ 38%]\u001b[49m\u001b[39m [######################....................................] \u001b8\u001b7\u001b[24;0f\u001b[42m\u001b[30mProgress: [ 42%]\u001b[49m\u001b[39m [########################..................................] \u001b8Selecting previously unselected package libsm6:amd64.\n",
            "Preparing to unpack .../libsm6_2%3a1.2.2-1_amd64.deb ...\n",
            "\u001b7\u001b[24;0f\u001b[42m\u001b[30mProgress: [ 47%]\u001b[49m\u001b[39m [###########################...............................] \u001b8Unpacking libsm6:amd64 (2:1.2.2-1) ...\n",
            "\u001b7\u001b[24;0f\u001b[42m\u001b[30mProgress: [ 52%]\u001b[49m\u001b[39m [##############################............................] \u001b8\u001b7\u001b[24;0f\u001b[42m\u001b[30mProgress: [ 57%]\u001b[49m\u001b[39m [#################################.........................] \u001b8Setting up libxext6:amd64 (2:1.3.3-1) ...\n",
            "\u001b7\u001b[24;0f\u001b[42m\u001b[30mProgress: [ 61%]\u001b[49m\u001b[39m [###################################.......................] \u001b8\u001b7\u001b[24;0f\u001b[42m\u001b[30mProgress: [ 66%]\u001b[49m\u001b[39m [######################################....................] \u001b8Processing triggers for libc-bin (2.26-0ubuntu2.1) ...\n",
            "Setting up x11-common (1:7.7+19ubuntu3) ...\n",
            "\u001b7\u001b[24;0f\u001b[42m\u001b[30mProgress: [ 71%]\u001b[49m\u001b[39m [#########################################.................] \u001b8update-rc.d: warning: start and stop actions are no longer supported; falling back to defaults\n",
            "invoke-rc.d: could not determine current runlevel\n",
            "invoke-rc.d: policy-rc.d denied execution of start.\n",
            "\u001b7\u001b[24;0f\u001b[42m\u001b[30mProgress: [ 76%]\u001b[49m\u001b[39m [############################################..............] \u001b8Setting up libice6:amd64 (2:1.0.9-2) ...\n",
            "\u001b7\u001b[24;0f\u001b[42m\u001b[30mProgress: [ 80%]\u001b[49m\u001b[39m [##############################################............] \u001b8\u001b7\u001b[24;0f\u001b[42m\u001b[30mProgress: [ 85%]\u001b[49m\u001b[39m [#################################################.........] \u001b8Setting up libsm6:amd64 (2:1.2.2-1) ...\n",
            "\u001b7\u001b[24;0f\u001b[42m\u001b[30mProgress: [ 90%]\u001b[49m\u001b[39m [####################################################......] \u001b8\u001b7\u001b[24;0f\u001b[42m\u001b[30mProgress: [ 95%]\u001b[49m\u001b[39m [#######################################################...] \u001b8Processing triggers for libc-bin (2.26-0ubuntu2.1) ...\n",
            "\n",
            "\u001b7\u001b[0;24r\u001b8\u001b[1A\u001b[JCollecting torch==0.3.0.post4 from http://download.pytorch.org/whl/cu80/torch-0.3.0.post4-cp36-cp36m-linux_x86_64.whl\n",
            "  Downloading http://download.pytorch.org/whl/cu80/torch-0.3.0.post4-cp36-cp36m-linux_x86_64.whl (592.3MB)\n",
            "\u001b[K    0% |                                | 512kB 10.4MB/s eta 0:00:57"
          ],
          "name": "stdout"
        },
        {
          "output_type": "stream",
          "text": [
            "\u001b[K    100% |████████████████████████████████| 592.3MB 62.6MB/s \n",
            "\u001b[?25hRequirement already satisfied: pyyaml in /usr/local/lib/python3.6/dist-packages (from torch==0.3.0.post4)\n",
            "Requirement already satisfied: numpy in /usr/local/lib/python3.6/dist-packages (from torch==0.3.0.post4)\n",
            "Installing collected packages: torch\n",
            "Successfully installed torch-0.3.0.post4\n",
            "Collecting torchvision\n",
            "  Downloading torchvision-0.2.0-py2.py3-none-any.whl (48kB)\n",
            "\u001b[K    100% |████████████████████████████████| 51kB 3.0MB/s \n",
            "\u001b[?25hCollecting pillow>=4.1.1 (from torchvision)\n",
            "  Downloading Pillow-5.0.0-cp36-cp36m-manylinux1_x86_64.whl (5.9MB)\n",
            "\u001b[K    100% |████████████████████████████████| 5.9MB 242kB/s \n",
            "\u001b[?25hRequirement already satisfied: torch in /usr/local/lib/python3.6/dist-packages (from torchvision)\n",
            "Requirement already satisfied: six in /usr/local/lib/python3.6/dist-packages (from torchvision)\n",
            "Requirement already satisfied: numpy in /usr/local/lib/python3.6/dist-packages (from torchvision)\n",
            "Requirement already satisfied: pyyaml in /usr/local/lib/python3.6/dist-packages (from torch->torchvision)\n",
            "Installing collected packages: pillow, torchvision\n",
            "  Found existing installation: Pillow 4.0.0\n",
            "    Uninstalling Pillow-4.0.0:\n",
            "      Successfully uninstalled Pillow-4.0.0\n",
            "Successfully installed pillow-5.0.0 torchvision-0.2.0\n"
          ],
          "name": "stdout"
        }
      ]
    },
    {
      "metadata": {
        "id": "LsXwu9KkN8QB",
        "colab_type": "code",
        "colab": {
          "autoexec": {
            "startup": false,
            "wait_interval": 0
          },
          "output_extras": [
            {
              "item_id": 5
            }
          ],
          "base_uri": "https://localhost:8080/",
          "height": 425
        },
        "outputId": "85a37503-3c99-4cc9-ff8b-95e146273d8a",
        "executionInfo": {
          "status": "ok",
          "timestamp": 1520492608761,
          "user_tz": -480,
          "elapsed": 4822,
          "user": {
            "displayName": "Ng Hui Qin",
            "photoUrl": "//lh5.googleusercontent.com/-bHpTdW7TTQU/AAAAAAAAAAI/AAAAAAAAChc/oIeKcp8bFGQ/s50-c-k-no/photo.jpg",
            "userId": "112745525796164686528"
          }
        }
      },
      "cell_type": "code",
      "source": [
        "!apt-get -y install p7zip-full"
      ],
      "execution_count": 3,
      "outputs": [
        {
          "output_type": "stream",
          "text": [
            "Reading package lists... Done\n",
            "Building dependency tree       \n",
            "Reading state information... Done\n",
            "The following additional packages will be installed:\n",
            "  p7zip\n",
            "Suggested packages:\n",
            "  p7zip-rar\n",
            "The following NEW packages will be installed:\n",
            "  p7zip p7zip-full\n",
            "0 upgraded, 2 newly installed, 0 to remove and 36 not upgraded.\n",
            "Need to get 1,467 kB of archives.\n",
            "After this operation, 5,415 kB of additional disk space will be used.\n",
            "Get:1 http://archive.ubuntu.com/ubuntu artful/universe amd64 p7zip amd64 16.02+dfsg-4 [348 kB]\n",
            "Get:2 http://archive.ubuntu.com/ubuntu artful/universe amd64 p7zip-full amd64 16.02+dfsg-4 [1,119 kB]\n",
            "Fetched 1,467 kB in 1s (1,019 kB/s)\n",
            "Selecting previously unselected package p7zip.\n",
            "(Reading database ... 16712 files and directories currently installed.)\n",
            "Preparing to unpack .../p7zip_16.02+dfsg-4_amd64.deb ...\n",
            "Unpacking p7zip (16.02+dfsg-4) ...\n",
            "Selecting previously unselected package p7zip-full.\n",
            "Preparing to unpack .../p7zip-full_16.02+dfsg-4_amd64.deb ...\n",
            "Unpacking p7zip-full (16.02+dfsg-4) ...\n",
            "Setting up p7zip (16.02+dfsg-4) ...\n",
            "Setting up p7zip-full (16.02+dfsg-4) ...\n"
          ],
          "name": "stdout"
        }
      ]
    },
    {
      "metadata": {
        "id": "9MCl4UeNRKv4",
        "colab_type": "text"
      },
      "cell_type": "markdown",
      "source": [
        "### Use Kaggle-cli to download data\n",
        "set your username after -u, password after -p, competition name after -c"
      ]
    },
    {
      "metadata": {
        "id": "yElcHNHmPOX3",
        "colab_type": "code",
        "colab": {
          "autoexec": {
            "startup": false,
            "wait_interval": 0
          },
          "output_extras": [
            {
              "item_id": 22
            },
            {
              "item_id": 46
            }
          ],
          "base_uri": "https://localhost:8080/",
          "height": 357
        },
        "outputId": "44ec345a-1308-41fe-e0ed-965831299dd6",
        "executionInfo": {
          "status": "ok",
          "timestamp": 1520492659149,
          "user_tz": -480,
          "elapsed": 50353,
          "user": {
            "displayName": "Ng Hui Qin",
            "photoUrl": "//lh5.googleusercontent.com/-bHpTdW7TTQU/AAAAAAAAAAI/AAAAAAAAChc/oIeKcp8bFGQ/s50-c-k-no/photo.jpg",
            "userId": "112745525796164686528"
          }
        }
      },
      "cell_type": "code",
      "source": [
        "!kg config -u (username) -p (password) -c planet-understanding-the-amazon-from-space \n",
        "!kg download -f sample_submission_v2.csv.zip\n",
        "!kg download -f test-jpg-additional.tar.7z \n",
        "!kg download -f test-jpg.tar.7z \n",
        "!kg download -f train-jpg.tar.7z \n",
        "!kg download -f train_v2.csv.zip"
      ],
      "execution_count": 4,
      "outputs": [
        {
          "output_type": "stream",
          "text": [
            "downloading https://www.kaggle.com/c/planet-understanding-the-amazon-from-space/download/sample_submission_v2.csv.zip\r\n",
            "\n",
            "sample_submission_v2.csv.zip 100% |#################| Time: 0:00:00 606.9 KiB/s\n",
            "\n",
            "downloading https://www.kaggle.com/c/planet-understanding-the-amazon-from-space/download/test-jpg-additional.tar.7z\n",
            "\n",
            "test-jpg-additional.tar.7z 100% |###################| Time: 0:00:07  39.7 MiB/s\n",
            "\n",
            "downloading https://www.kaggle.com/c/planet-understanding-the-amazon-from-space/download/test-jpg.tar.7z\n",
            "\n",
            "test-jpg.tar.7z  69% |####################          | ETA:  0:00:04  43.4 MiB/s"
          ],
          "name": "stdout"
        },
        {
          "output_type": "stream",
          "text": [
            "test-jpg.tar.7z 100% |##############################| Time: 0:00:14  42.9 MiB/s\n",
            "\n",
            "downloading https://www.kaggle.com/c/planet-understanding-the-amazon-from-space/download/train-jpg.tar.7z\n",
            "\n",
            "train-jpg.tar.7z 100% |#############################| Time: 0:00:13  43.7 MiB/s\n",
            "\n",
            "downloading https://www.kaggle.com/c/planet-understanding-the-amazon-from-space/download/train_v2.csv.zip\n",
            "\n",
            "train_v2.csv.zip 100% |#############################| Time: 0:00:00 661.8 KiB/s\n",
            "\n"
          ],
          "name": "stdout"
        }
      ]
    },
    {
      "metadata": {
        "id": "w_Oidr9gRYpG",
        "colab_type": "code",
        "colab": {
          "autoexec": {
            "startup": false,
            "wait_interval": 0
          },
          "output_extras": [
            {
              "item_id": 2
            }
          ],
          "base_uri": "https://localhost:8080/",
          "height": 136
        },
        "outputId": "d537c4ca-cf23-426c-acb0-53c31d88b81e",
        "executionInfo": {
          "status": "ok",
          "timestamp": 1520492774602,
          "user_tz": -480,
          "elapsed": 115418,
          "user": {
            "displayName": "Ng Hui Qin",
            "photoUrl": "//lh5.googleusercontent.com/-bHpTdW7TTQU/AAAAAAAAAAI/AAAAAAAAChc/oIeKcp8bFGQ/s50-c-k-no/photo.jpg",
            "userId": "112745525796164686528"
          }
        }
      },
      "cell_type": "code",
      "source": [
        "#extract files\n",
        "!7z x -so test-jpg-additional.tar.7z | tar xf -\n",
        "!7z x -so train-jpg.tar.7z | tar xf -\n",
        "!7z x -so test-jpg.tar.7z | tar xf -\n",
        "!unzip sample_submission_v2.csv.zip\n",
        "!unzip train_v2.csv.zip"
      ],
      "execution_count": 5,
      "outputs": [
        {
          "output_type": "stream",
          "text": [
            "Archive:  sample_submission_v2.csv.zip\r\n",
            "  inflating: sample_submission_v2.csv  \r\n",
            "   creating: __MACOSX/\r\n",
            "  inflating: __MACOSX/._sample_submission_v2.csv  \n",
            "Archive:  train_v2.csv.zip\n",
            "  inflating: train_v2.csv            \n",
            "  inflating: __MACOSX/._train_v2.csv  \n"
          ],
          "name": "stdout"
        }
      ]
    },
    {
      "metadata": {
        "id": "k4guu07BSnpw",
        "colab_type": "code",
        "colab": {
          "autoexec": {
            "startup": false,
            "wait_interval": 0
          }
        }
      },
      "cell_type": "code",
      "source": [
        "#remove compressed files\n",
        "rm test-jpg-additional.tar.7z train-jpg.tar.7z test-jpg.tar.7z sample_submission_v2.csv.zip train_v2.csv.zip"
      ],
      "execution_count": 0,
      "outputs": []
    },
    {
      "metadata": {
        "id": "9h0R3HZ4SrTx",
        "colab_type": "code",
        "colab": {
          "autoexec": {
            "startup": false,
            "wait_interval": 0
          }
        }
      },
      "cell_type": "code",
      "source": [
        "mkdir planet"
      ],
      "execution_count": 0,
      "outputs": []
    },
    {
      "metadata": {
        "id": "gCZZ1hS5TXEl",
        "colab_type": "code",
        "colab": {
          "autoexec": {
            "startup": false,
            "wait_interval": 0
          }
        }
      },
      "cell_type": "code",
      "source": [
        "mv *.csv planet/"
      ],
      "execution_count": 0,
      "outputs": []
    },
    {
      "metadata": {
        "id": "gyraoSomTm03",
        "colab_type": "code",
        "colab": {
          "autoexec": {
            "startup": false,
            "wait_interval": 0
          }
        }
      },
      "cell_type": "code",
      "source": [
        "mv test-jpg-additional/* test-jpg/"
      ],
      "execution_count": 0,
      "outputs": []
    },
    {
      "metadata": {
        "id": "mp_IMbMQTpT-",
        "colab_type": "code",
        "colab": {
          "autoexec": {
            "startup": false,
            "wait_interval": 0
          }
        }
      },
      "cell_type": "code",
      "source": [
        "mv test-jpg planet/"
      ],
      "execution_count": 0,
      "outputs": []
    },
    {
      "metadata": {
        "id": "IZiigK9TTrwF",
        "colab_type": "code",
        "colab": {
          "autoexec": {
            "startup": false,
            "wait_interval": 0
          }
        }
      },
      "cell_type": "code",
      "source": [
        "mv train-jpg planet/"
      ],
      "execution_count": 0,
      "outputs": []
    },
    {
      "metadata": {
        "id": "wV32YKUnTh2L",
        "colab_type": "code",
        "colab": {
          "autoexec": {
            "startup": false,
            "wait_interval": 0
          }
        }
      },
      "cell_type": "code",
      "source": [
        "rm -rf test-jpg-additional"
      ],
      "execution_count": 0,
      "outputs": []
    },
    {
      "metadata": {
        "id": "3gLsdgpmUA7o",
        "colab_type": "text"
      },
      "cell_type": "markdown",
      "source": [
        "###  Mount google drive"
      ]
    },
    {
      "metadata": {
        "id": "yU6ftBBGUDdt",
        "colab_type": "code",
        "colab": {
          "autoexec": {
            "startup": false,
            "wait_interval": 0
          },
          "output_extras": [
            {
              "item_id": 4
            }
          ],
          "base_uri": "https://localhost:8080/",
          "height": 105
        },
        "outputId": "21da094b-de34-4401-b80b-25560e6af9a7",
        "executionInfo": {
          "status": "ok",
          "timestamp": 1520492840995,
          "user_tz": -480,
          "elapsed": 12635,
          "user": {
            "displayName": "Ng Hui Qin",
            "photoUrl": "//lh5.googleusercontent.com/-bHpTdW7TTQU/AAAAAAAAAAI/AAAAAAAAChc/oIeKcp8bFGQ/s50-c-k-no/photo.jpg",
            "userId": "112745525796164686528"
          }
        }
      },
      "cell_type": "code",
      "source": [
        "!apt-get install -y -qq software-properties-common python-software-properties module-init-tools\n",
        "!add-apt-repository -y ppa:alessandro-strada/ppa 2>&1 > /dev/null\n",
        "!apt-get update -qq 2>&1 > /dev/null\n",
        "!apt-get -y install -qq google-drive-ocamlfuse fuse\n",
        "from google.colab import auth\n",
        "auth.authenticate_user()\n",
        "from oauth2client.client import GoogleCredentials\n",
        "creds = GoogleCredentials.get_application_default()\n",
        "import getpass\n",
        "!google-drive-ocamlfuse -headless -id={creds.client_id} -secret={creds.client_secret} < /dev/null 2>&1 | grep URL\n",
        "vcode = getpass.getpass()\n",
        "!echo {vcode} | google-drive-ocamlfuse -headless -id={creds.client_id} -secret={creds.client_secret}"
      ],
      "execution_count": 13,
      "outputs": [
        {
          "output_type": "stream",
          "text": [
            "Please, open the following URL in a web browser: https://accounts.google.com/o/oauth2/auth?client_id=32555940559.apps.googleusercontent.com&redirect_uri=urn%3Aietf%3Awg%3Aoauth%3A2.0%3Aoob&scope=https%3A%2F%2Fwww.googleapis.com%2Fauth%2Fdrive&response_type=code&access_type=offline&approval_prompt=force\r\n",
            "··········\n",
            "Please, open the following URL in a web browser: https://accounts.google.com/o/oauth2/auth?client_id=32555940559.apps.googleusercontent.com&redirect_uri=urn%3Aietf%3Awg%3Aoauth%3A2.0%3Aoob&scope=https%3A%2F%2Fwww.googleapis.com%2Fauth%2Fdrive&response_type=code&access_type=offline&approval_prompt=force\n",
            "Please enter the verification code: Access token retrieved correctly.\n"
          ],
          "name": "stdout"
        }
      ]
    },
    {
      "metadata": {
        "id": "_Mw7EwkSU_t-",
        "colab_type": "code",
        "colab": {
          "autoexec": {
            "startup": false,
            "wait_interval": 0
          }
        }
      },
      "cell_type": "code",
      "source": [
        "!mkdir -p drive\n",
        "!google-drive-ocamlfuse drive"
      ],
      "execution_count": 0,
      "outputs": []
    },
    {
      "metadata": {
        "id": "9HFRsJEUawB4",
        "colab_type": "code",
        "colab": {
          "autoexec": {
            "startup": false,
            "wait_interval": 0
          },
          "output_extras": [
            {
              "item_id": 2
            }
          ],
          "base_uri": "https://localhost:8080/",
          "height": 204
        },
        "outputId": "5885155c-ef2a-41fa-bf61-73a981926464",
        "executionInfo": {
          "status": "ok",
          "timestamp": 1520492843463,
          "user_tz": -480,
          "elapsed": 839,
          "user": {
            "displayName": "Ng Hui Qin",
            "photoUrl": "//lh5.googleusercontent.com/-bHpTdW7TTQU/AAAAAAAAAAI/AAAAAAAAChc/oIeKcp8bFGQ/s50-c-k-no/photo.jpg",
            "userId": "112745525796164686528"
          }
        }
      },
      "cell_type": "code",
      "source": [
        "!wget https://raw.githubusercontent.com/fastai/fastai/master/courses/dl1/planet.py\n"
      ],
      "execution_count": 15,
      "outputs": [
        {
          "output_type": "stream",
          "text": [
            "--2018-03-08 07:07:23--  https://raw.githubusercontent.com/fastai/fastai/master/courses/dl1/planet.py\r\n",
            "Resolving raw.githubusercontent.com (raw.githubusercontent.com)... 151.101.0.133, 151.101.64.133, 151.101.128.133, ...\r\n",
            "Connecting to raw.githubusercontent.com (raw.githubusercontent.com)|151.101.0.133|:443... connected.\n",
            "HTTP request sent, awaiting response... 200 OK\n",
            "Length: 1352 (1.3K) [text/plain]\n",
            "Saving to: ‘planet.py’\n",
            "\n",
            "planet.py           100%[===================>]   1.32K  --.-KB/s    in 0s      \n",
            "\n",
            "2018-03-08 07:07:23 (309 MB/s) - ‘planet.py’ saved [1352/1352]\n",
            "\n"
          ],
          "name": "stdout"
        }
      ]
    },
    {
      "metadata": {
        "id": "Q20wbenhdQrc",
        "colab_type": "code",
        "colab": {
          "autoexec": {
            "startup": false,
            "wait_interval": 0
          }
        }
      },
      "cell_type": "code",
      "source": [
        "!touch __init__.py"
      ],
      "execution_count": 0,
      "outputs": []
    },
    {
      "metadata": {
        "id": "1Qgp29vTdX-2",
        "colab_type": "code",
        "colab": {
          "autoexec": {
            "startup": false,
            "wait_interval": 0
          }
        }
      },
      "cell_type": "code",
      "source": [
        ""
      ],
      "execution_count": 0,
      "outputs": []
    },
    {
      "metadata": {
        "id": "l1jONF9qTmGg",
        "colab_type": "text"
      },
      "cell_type": "markdown",
      "source": [
        "# Kaggle Planet Competition"
      ]
    },
    {
      "metadata": {
        "id": "ebbDiDQ1rid7",
        "colab_type": "code",
        "colab": {
          "autoexec": {
            "startup": false,
            "wait_interval": 0
          }
        }
      },
      "cell_type": "code",
      "source": [
        "%reload_ext autoreload\n",
        "%autoreload 2\n",
        "%matplotlib inline"
      ],
      "execution_count": 0,
      "outputs": []
    },
    {
      "metadata": {
        "id": "ubwwSUldTRmq",
        "colab_type": "code",
        "colab": {
          "autoexec": {
            "startup": false,
            "wait_interval": 0
          }
        }
      },
      "cell_type": "code",
      "source": [
        "import os, sys\n",
        "from fastai.conv_learner import *\n",
        "from fastai.plots import *\n",
        "import planet\n",
        "from planet import f2, opt_th"
      ],
      "execution_count": 0,
      "outputs": []
    },
    {
      "metadata": {
        "id": "Aozef2KBTWB1",
        "colab_type": "code",
        "colab": {
          "autoexec": {
            "startup": false,
            "wait_interval": 0
          }
        }
      },
      "cell_type": "code",
      "source": [
        "outputPath = 'drive/Kaggle/'\n",
        "path = 'planet/' #path to folder containing data\n",
        "sz=64   #image size\n",
        "bs=20    #batch size"
      ],
      "execution_count": 0,
      "outputs": []
    },
    {
      "metadata": {
        "id": "nuoK0ztNTa1n",
        "colab_type": "text"
      },
      "cell_type": "markdown",
      "source": [
        "## Evaluation Criteria and Initial Model\n",
        "If you read the evaluation criteria of competition, you will know it is based on f2 score. we define metrics for model accordingly. You can find the further information about F2 score here. For our initial model, we will be using pre-trained implementation of deep residual model renet34"
      ]
    },
    {
      "metadata": {
        "id": "Yg26YcCSTkav",
        "colab_type": "code",
        "colab": {
          "autoexec": {
            "startup": false,
            "wait_interval": 0
          }
        }
      },
      "cell_type": "code",
      "source": [
        "metrics=[f2]\n",
        "f_model = resnet34"
      ],
      "execution_count": 0,
      "outputs": []
    },
    {
      "metadata": {
        "id": "PyHvDm4RTqvl",
        "colab_type": "code",
        "colab": {
          "autoexec": {
            "startup": false,
            "wait_interval": 0
          }
        }
      },
      "cell_type": "code",
      "source": [
        "#  Prepare data Validation set\n",
        "label_csv = f'{path}train_v2.csv'\n",
        "n = len(list(open(label_csv)))-1 #total number of images\n",
        "val_idxs = get_cv_idxs(n) #it will return 20% indexes from training data set to used for val data"
      ],
      "execution_count": 0,
      "outputs": []
    },
    {
      "metadata": {
        "id": "wjIq8O-xTsQG",
        "colab_type": "code",
        "colab": {
          "autoexec": {
            "startup": false,
            "wait_interval": 0
          }
        }
      },
      "cell_type": "code",
      "source": [
        "def get_data(sz, bs):\n",
        "    \"\"\"Returns data generator\"\"\"\n",
        "    tfms =  tfms_from_model(f_model, sz, aug_tfms=transforms_top_down, max_zoom=1.05)\n",
        "    return ImageClassifierData.from_csv(path, 'train-jpg', f'{path}train_v2.csv', bs, tfms, suffix='.jpg', val_idxs=val_idxs, test_name='test-jpg')\n",
        "data = get_data(bs, sz)"
      ],
      "execution_count": 0,
      "outputs": []
    },
    {
      "metadata": {
        "id": "7Qm0wRl9TtwE",
        "colab_type": "code",
        "colab": {
          "autoexec": {
            "startup": false,
            "wait_interval": 0
          }
        }
      },
      "cell_type": "code",
      "source": [
        "mdl = ConvLearner.pretrained(f_model, data, metrics=metrics)"
      ],
      "execution_count": 0,
      "outputs": []
    },
    {
      "metadata": {
        "id": "ux9mr-BqLcRY",
        "colab_type": "text"
      },
      "cell_type": "markdown",
      "source": [
        "## Finding the Learning Rate\n",
        "Learning rate(LR) is one of the most important hyper parameter of your model. It determines how fast or slow your model will learn.If LR is too high, model will try to learn too fast and loss function will not converge. If LR is very too low you model will take too long to converge.\n",
        "\n",
        "Finding a good learning rate using fastai library is very easy, just use the following two commands. They will plot a graph of LR against loss function, a good value for LR will be where the slop of the loss function is highest. As we can see slope is highest between 0.1 to 1, you can use any value in between this range. It would be a good idea to experiment with a few values in this range to find the optimal value.After experimenting with three values, 0.2 seemed to work best for me."
      ]
    },
    {
      "metadata": {
        "id": "soWv528SLgpZ",
        "colab_type": "code",
        "colab": {
          "autoexec": {
            "startup": false,
            "wait_interval": 0
          },
          "output_extras": [
            {
              "item_id": 1
            },
            {
              "item_id": 215
            },
            {
              "item_id": 216
            }
          ],
          "base_uri": "https://localhost:8080/",
          "height": 392
        },
        "outputId": "07d08473-8462-49ec-8339-f3cd7c98b6e9",
        "executionInfo": {
          "status": "ok",
          "timestamp": 1520492941517,
          "user_tz": -480,
          "elapsed": 75909,
          "user": {
            "displayName": "Ng Hui Qin",
            "photoUrl": "//lh5.googleusercontent.com/-bHpTdW7TTQU/AAAAAAAAAAI/AAAAAAAAChc/oIeKcp8bFGQ/s50-c-k-no/photo.jpg",
            "userId": "112745525796164686528"
          }
        }
      },
      "cell_type": "code",
      "source": [
        "lrf = mdl.lr_find()\n",
        "mdl.sched.plot()"
      ],
      "execution_count": 24,
      "outputs": [
        {
          "output_type": "display_data",
          "data": {
            "application/vnd.jupyter.widget-view+json": {
              "model_id": "f2a5ae6cfe6e41559d6c5c52eba14db9",
              "version_minor": 0,
              "version_major": 2
            },
            "text/html": [
              "<p>Failed to display Jupyter Widget of type <code>HBox</code>.</p>\n",
              "<p>\n",
              "  If you're reading this message in the Jupyter Notebook or JupyterLab Notebook, it may mean\n",
              "  that the widgets JavaScript is still loading. If this message persists, it\n",
              "  likely means that the widgets JavaScript library is either not installed or\n",
              "  not enabled. See the <a href=\"https://ipywidgets.readthedocs.io/en/stable/user_install.html\">Jupyter\n",
              "  Widgets Documentation</a> for setup instructions.\n",
              "</p>\n",
              "<p>\n",
              "  If you're reading this message in another frontend (for example, a static\n",
              "  rendering on GitHub or <a href=\"https://nbviewer.jupyter.org/\">NBViewer</a>),\n",
              "  it may mean that your frontend doesn't currently support widgets.\n",
              "</p>\n"
            ],
            "text/plain": [
              "HBox(children=(IntProgress(value=0, description='Epoch', max=1), HTML(value='')))"
            ]
          },
          "metadata": {
            "tags": []
          }
        },
        {
          "output_type": "stream",
          "text": [
            "[0.      0.22125 0.34041 0.76199]\n",
            "\n"
          ],
          "name": "stdout"
        },
        {
          "output_type": "display_data",
          "data": {
            "image/png": "[encoded data removed]",
            "text/plain": [
              "<matplotlib.figure.Figure at 0x7f204ab203c8>"
            ]
          },
          "metadata": {
            "tags": []
          }
        }
      ]
    },
    {
      "metadata": {
        "id": "yRaeMLiqLmtv",
        "colab_type": "text"
      },
      "cell_type": "markdown",
      "source": [
        "## Training the model\n",
        "Total size of chips in competition is 256X256, we start training our model with 64x64 and will gradually increase the size of image as training progress. This is a very good technique to avoid overfitting."
      ]
    },
    {
      "metadata": {
        "id": "C_-CSDAzLkrd",
        "colab_type": "code",
        "colab": {
          "autoexec": {
            "startup": false,
            "wait_interval": 0
          },
          "output_extras": [
            {
              "item_id": 1
            },
            {
              "item_id": 323
            },
            {
              "item_id": 400
            },
            {
              "item_id": 534
            },
            {
              "item_id": 611
            },
            {
              "item_id": 678
            }
          ],
          "base_uri": "https://localhost:8080/",
          "height": 228
        },
        "outputId": "64d492dd-3ab5-437c-ca93-157ccb461c44",
        "executionInfo": {
          "status": "ok",
          "timestamp": 1520500105837,
          "user_tz": -480,
          "elapsed": 608426,
          "user": {
            "displayName": "Ng Hui Qin",
            "photoUrl": "//lh5.googleusercontent.com/-bHpTdW7TTQU/AAAAAAAAAAI/AAAAAAAAChc/oIeKcp8bFGQ/s50-c-k-no/photo.jpg",
            "userId": "112745525796164686528"
          }
        }
      },
      "cell_type": "code",
      "source": [
        "lr=0.2\n",
        "data = get_data(64, 64) #data generator for batch size=64, image size=64x64\n",
        "learn = ConvLearner.pretrained(f_model, data, metrics=metrics)\n",
        "learn.fit(lr, 3, cycle_len=1, cycle_mult=2)"
      ],
      "execution_count": 9,
      "outputs": [
        {
          "output_type": "display_data",
          "data": {
            "application/vnd.jupyter.widget-view+json": {
              "model_id": "16d0841360ac43e2a4a369720d7215d2",
              "version_minor": 0,
              "version_major": 2
            },
            "text/html": [
              "<p>Failed to display Jupyter Widget of type <code>HBox</code>.</p>\n",
              "<p>\n",
              "  If you're reading this message in the Jupyter Notebook or JupyterLab Notebook, it may mean\n",
              "  that the widgets JavaScript is still loading. If this message persists, it\n",
              "  likely means that the widgets JavaScript library is either not installed or\n",
              "  not enabled. See the <a href=\"https://ipywidgets.readthedocs.io/en/stable/user_install.html\">Jupyter\n",
              "  Widgets Documentation</a> for setup instructions.\n",
              "</p>\n",
              "<p>\n",
              "  If you're reading this message in another frontend (for example, a static\n",
              "  rendering on GitHub or <a href=\"https://nbviewer.jupyter.org/\">NBViewer</a>),\n",
              "  it may mean that your frontend doesn't currently support widgets.\n",
              "</p>\n"
            ],
            "text/plain": [
              "HBox(children=(IntProgress(value=0, description='Epoch', max=7), HTML(value='')))"
            ]
          },
          "metadata": {
            "tags": []
          }
        },
        {
          "output_type": "stream",
          "text": [
            "[0.      0.14613 0.13395 0.87978]\n"
          ],
          "name": "stdout"
        },
        {
          "output_type": "stream",
          "text": [
            "[1.      0.13792 0.12747 0.88726]\n",
            "[2.      0.13417 0.12471 0.8906 ]\n",
            "  7%|▋         | 37/506 [00:05<01:13,  6.35it/s, loss=0.136]"
          ],
          "name": "stdout"
        },
        {
          "output_type": "stream",
          "text": [
            "[3.      0.1372  0.12481 0.88985]\n"
          ],
          "name": "stdout"
        },
        {
          "output_type": "stream",
          "text": [
            "[4.      0.13079 0.12272 0.89421]\n",
            "[5.      0.1288  0.12127 0.89472]\n",
            "  7%|▋         | 36/506 [00:05<01:14,  6.35it/s, loss=0.129]"
          ],
          "name": "stdout"
        },
        {
          "output_type": "stream",
          "text": [
            "[6.      0.12732 0.12117 0.89429]\n",
            "\n"
          ],
          "name": "stdout"
        }
      ]
    },
    {
      "metadata": {
        "id": "H4FlRii0LsAy",
        "colab_type": "text"
      },
      "cell_type": "markdown",
      "source": [
        "When training the model, fastai implements a technique called stochastic gradient descent with restarts (SGDR), which trains model in cycles, where each cycle consists of one or more epochs. For each cycle, it starts with LR original value and will exponentially decrease the LR(Exponential learning rate schedule) as the training progress. Second parameter in fit denotes the total number of cycles. Total number of epochs in a cycle are controlled by 2 parameter cycle_len and cycle_mult as follows.\n",
        "```\n",
        "number of epochs in first cycle = cycle_len \n",
        "number of epochs in second cycle = number of epochs in previous(first) cycle x cycle_mult\n",
        "number of epochs in third cycle =  number of epochs in previous(second) cycle x cycle_mult\n",
        "```\n",
        "Here is the graph the show changes in LR for each cycle in above training."
      ]
    },
    {
      "metadata": {
        "id": "77aHhRYlLtfK",
        "colab_type": "code",
        "colab": {
          "autoexec": {
            "startup": false,
            "wait_interval": 0
          },
          "output_extras": [
            {
              "item_id": 1
            }
          ],
          "base_uri": "https://localhost:8080/",
          "height": 279
        },
        "outputId": "62a56fad-2961-4d96-ecd4-f318d71155e0",
        "executionInfo": {
          "status": "ok",
          "timestamp": 1520500106922,
          "user_tz": -480,
          "elapsed": 1056,
          "user": {
            "displayName": "Ng Hui Qin",
            "photoUrl": "//lh5.googleusercontent.com/-bHpTdW7TTQU/AAAAAAAAAAI/AAAAAAAAChc/oIeKcp8bFGQ/s50-c-k-no/photo.jpg",
            "userId": "112745525796164686528"
          }
        }
      },
      "cell_type": "code",
      "source": [
        "learn.sched.plot_lr()"
      ],
      "execution_count": 10,
      "outputs": [
        {
          "output_type": "display_data",
          "data": {
            "image/png": "[encoded data removed]",
            "text/plain": [
              "<matplotlib.figure.Figure at 0x7f677787e4a8>"
            ]
          },
          "metadata": {
            "tags": []
          }
        }
      ]
    },
    {
      "metadata": {
        "id": "e1kQyEWuLyKA",
        "colab_type": "text"
      },
      "cell_type": "markdown",
      "source": [
        "By default the fastai will freeze the weights of all of the layers except a few last layers and the ones that it adds to fine-tune the model for your dataset. So in above epochs, all of learning is done by those unfrozen last layers. Next, we will unfreeze the weights of all of the layers to get more accuracy out of our model."
      ]
    },
    {
      "metadata": {
        "id": "91Izd50fLzfR",
        "colab_type": "code",
        "colab": {
          "autoexec": {
            "startup": false,
            "wait_interval": 0
          },
          "output_extras": [
            {
              "item_id": 1
            },
            {
              "item_id": 222
            },
            {
              "item_id": 337
            },
            {
              "item_id": 552
            },
            {
              "item_id": 666
            },
            {
              "item_id": 773
            }
          ],
          "base_uri": "https://localhost:8080/",
          "height": 228
        },
        "outputId": "4ba3df94-32da-4d84-e634-82c767892832",
        "executionInfo": {
          "status": "ok",
          "timestamp": 1520500984503,
          "user_tz": -480,
          "elapsed": 877514,
          "user": {
            "displayName": "Ng Hui Qin",
            "photoUrl": "//lh5.googleusercontent.com/-bHpTdW7TTQU/AAAAAAAAAAI/AAAAAAAAChc/oIeKcp8bFGQ/s50-c-k-no/photo.jpg",
            "userId": "112745525796164686528"
          }
        }
      },
      "cell_type": "code",
      "source": [
        "lrs = [lr/9, lr/3, lr]\n",
        "learn.unfreeze()\n",
        "learn.fit(lrs, 3, cycle_len=1, cycle_mult=2)"
      ],
      "execution_count": 11,
      "outputs": [
        {
          "output_type": "display_data",
          "data": {
            "application/vnd.jupyter.widget-view+json": {
              "model_id": "431a56c549f8497ab86c58b93bc3ef2d",
              "version_minor": 0,
              "version_major": 2
            },
            "text/html": [
              "<p>Failed to display Jupyter Widget of type <code>HBox</code>.</p>\n",
              "<p>\n",
              "  If you're reading this message in the Jupyter Notebook or JupyterLab Notebook, it may mean\n",
              "  that the widgets JavaScript is still loading. If this message persists, it\n",
              "  likely means that the widgets JavaScript library is either not installed or\n",
              "  not enabled. See the <a href=\"https://ipywidgets.readthedocs.io/en/stable/user_install.html\">Jupyter\n",
              "  Widgets Documentation</a> for setup instructions.\n",
              "</p>\n",
              "<p>\n",
              "  If you're reading this message in another frontend (for example, a static\n",
              "  rendering on GitHub or <a href=\"https://nbviewer.jupyter.org/\">NBViewer</a>),\n",
              "  it may mean that your frontend doesn't currently support widgets.\n",
              "</p>\n"
            ],
            "text/plain": [
              "HBox(children=(IntProgress(value=0, description='Epoch', max=7), HTML(value='')))"
            ]
          },
          "metadata": {
            "tags": []
          }
        },
        {
          "output_type": "stream",
          "text": [
            "[0.      0.11701 0.10832 0.90871]\n"
          ],
          "name": "stdout"
        },
        {
          "output_type": "stream",
          "text": [
            "[1.      0.10831 0.10434 0.9106 ]\n",
            "[2.      0.10548 0.10063 0.914  ]\n",
            "  3%|▎         | 14/506 [00:04<02:38,  3.11it/s, loss=0.104]"
          ],
          "name": "stdout"
        },
        {
          "output_type": "stream",
          "text": [
            "[3.      0.11021 0.10374 0.91034]\n"
          ],
          "name": "stdout"
        },
        {
          "output_type": "stream",
          "text": [
            "[4.      0.10198 0.09923 0.9158 ]\n",
            "[5.      0.09587 0.09903 0.91502]\n",
            "  2%|▏         | 12/506 [00:03<02:35,  3.17it/s, loss=0.0946]"
          ],
          "name": "stdout"
        },
        {
          "output_type": "stream",
          "text": [
            "[6.      0.09642 0.09729 0.9171 ]\n",
            "\n"
          ],
          "name": "stdout"
        }
      ]
    },
    {
      "metadata": {
        "id": "1c1xRUehL2sY",
        "colab_type": "text"
      },
      "cell_type": "markdown",
      "source": [
        "If you have noticed, I have used an array for LR instead of a single value. If you give an array of 3 elements to fastai, it will divide the layers into 3 equal sets. For each set, it will use corresponding value from array.Since we are using a pre-trained model, and in a CNN initial set of layers usually learns simple features(like find a edge, corner, etc) so we don't want our initial layers to change too much, therefore we are using the lowest LR for them. Higher layers in CNN learns to find complex features (like geometrical patterns,faces etc), so having a higher rate for them would be good idea so they can adopt more rapidly to our data set."
      ]
    },
    {
      "metadata": {
        "id": "gg0CvV-OL0tI",
        "colab_type": "code",
        "colab": {
          "autoexec": {
            "startup": false,
            "wait_interval": 0
          },
          "output_extras": [
            {
              "item_id": 1
            }
          ],
          "base_uri": "https://localhost:8080/",
          "height": 268
        },
        "outputId": "7ad13bfa-b2e1-4dae-851c-f5ae5250e311",
        "executionInfo": {
          "status": "ok",
          "timestamp": 1520500985353,
          "user_tz": -480,
          "elapsed": 820,
          "user": {
            "displayName": "Ng Hui Qin",
            "photoUrl": "//lh5.googleusercontent.com/-bHpTdW7TTQU/AAAAAAAAAAI/AAAAAAAAChc/oIeKcp8bFGQ/s50-c-k-no/photo.jpg",
            "userId": "112745525796164686528"
          }
        }
      },
      "cell_type": "code",
      "source": [
        "learn.sched.plot_loss()"
      ],
      "execution_count": 12,
      "outputs": [
        {
          "output_type": "display_data",
          "data": {
            "image/png": "[encoded data removed]",
            "text/plain": [
              "<matplotlib.figure.Figure at 0x7f6774ccab00>"
            ]
          },
          "metadata": {
            "tags": []
          }
        }
      ]
    },
    {
      "metadata": {
        "id": "20EFqwiBL6Kv",
        "colab_type": "code",
        "colab": {
          "autoexec": {
            "startup": false,
            "wait_interval": 0
          },
          "output_extras": [
            {
              "item_id": 1
            },
            {
              "item_id": 978
            },
            {
              "item_id": 2578
            },
            {
              "item_id": 3004
            },
            {
              "item_id": 3690
            },
            {
              "item_id": 4318
            },
            {
              "item_id": 4737
            },
            {
              "item_id": 4738
            },
            {
              "item_id": 5441
            }
          ],
          "base_uri": "https://localhost:8080/",
          "height": 337
        },
        "outputId": "0f4d6713-9b02-494b-ca00-61895a0bac39"
      },
      "cell_type": "code",
      "source": [
        "#train for image size128x128\n",
        "learn.set_data(get_data(128, 20))\n",
        "\n",
        "learn.freeze()\n",
        "learn.fit(lr, 3, cycle_len=1, cycle_mult=2)\n",
        "\n",
        "learn.unfreeze()\n",
        "learn.fit(lr, 3, cycle_len=1, cycle_mult=2)"
      ],
      "execution_count": 0,
      "outputs": [
        {
          "output_type": "display_data",
          "data": {
            "application/vnd.jupyter.widget-view+json": {
              "model_id": "2f1cbe0226c94c81ba7921cd674c6c40",
              "version_minor": 0,
              "version_major": 2
            },
            "text/html": [
              "<p>Failed to display Jupyter Widget of type <code>HBox</code>.</p>\n",
              "<p>\n",
              "  If you're reading this message in the Jupyter Notebook or JupyterLab Notebook, it may mean\n",
              "  that the widgets JavaScript is still loading. If this message persists, it\n",
              "  likely means that the widgets JavaScript library is either not installed or\n",
              "  not enabled. See the <a href=\"https://ipywidgets.readthedocs.io/en/stable/user_install.html\">Jupyter\n",
              "  Widgets Documentation</a> for setup instructions.\n",
              "</p>\n",
              "<p>\n",
              "  If you're reading this message in another frontend (for example, a static\n",
              "  rendering on GitHub or <a href=\"https://nbviewer.jupyter.org/\">NBViewer</a>),\n",
              "  it may mean that your frontend doesn't currently support widgets.\n",
              "</p>\n"
            ],
            "text/plain": [
              "HBox(children=(IntProgress(value=0, description='Epoch', max=7), HTML(value='')))"
            ]
          },
          "metadata": {
            "tags": []
          }
        },
        {
          "output_type": "stream",
          "text": [
            "[0.      0.10276 0.09617 0.9196 ]\n"
          ],
          "name": "stdout"
        },
        {
          "output_type": "stream",
          "text": [
            "[1.      0.10178 0.09623 0.92098]\n"
          ],
          "name": "stdout"
        },
        {
          "output_type": "stream",
          "text": [
            "[2.      0.10485 0.09578 0.91854]\n"
          ],
          "name": "stdout"
        },
        {
          "output_type": "stream",
          "text": [
            "[3.      0.09653 0.09579 0.91993]\n"
          ],
          "name": "stdout"
        },
        {
          "output_type": "stream",
          "text": [
            "[4.      0.09704 0.09605 0.91997]\n"
          ],
          "name": "stdout"
        },
        {
          "output_type": "stream",
          "text": [
            "[5.      0.09219 0.09415 0.92111]\n",
            "[6.      0.10909 0.09621 0.92045]\n",
            "\n"
          ],
          "name": "stdout"
        },
        {
          "output_type": "display_data",
          "data": {
            "application/vnd.jupyter.widget-view+json": {
              "model_id": "a5f677f7064c4017a422e34a6aa87288",
              "version_minor": 0,
              "version_major": 2
            },
            "text/html": [
              "<p>Failed to display Jupyter Widget of type <code>HBox</code>.</p>\n",
              "<p>\n",
              "  If you're reading this message in the Jupyter Notebook or JupyterLab Notebook, it may mean\n",
              "  that the widgets JavaScript is still loading. If this message persists, it\n",
              "  likely means that the widgets JavaScript library is either not installed or\n",
              "  not enabled. See the <a href=\"https://ipywidgets.readthedocs.io/en/stable/user_install.html\">Jupyter\n",
              "  Widgets Documentation</a> for setup instructions.\n",
              "</p>\n",
              "<p>\n",
              "  If you're reading this message in another frontend (for example, a static\n",
              "  rendering on GitHub or <a href=\"https://nbviewer.jupyter.org/\">NBViewer</a>),\n",
              "  it may mean that your frontend doesn't currently support widgets.\n",
              "</p>\n"
            ],
            "text/plain": [
              "HBox(children=(IntProgress(value=0, description='Epoch', max=7), HTML(value='')))"
            ]
          },
          "metadata": {
            "tags": []
          }
        },
        {
          "output_type": "stream",
          "text": [
            "[0.      0.1175  0.10639 0.9146 ]\n",
            "  2%|▏         | 29/1620 [00:14<12:59,  2.04it/s, loss=0.123]"
          ],
          "name": "stdout"
        }
      ]
    },
    {
      "metadata": {
        "id": "fChPKLJfL878",
        "colab_type": "code",
        "colab": {
          "autoexec": {
            "startup": false,
            "wait_interval": 0
          },
          "output_extras": [
            {
              "item_id": 1
            },
            {
              "item_id": 119
            }
          ],
          "base_uri": "https://localhost:8080/",
          "height": 109
        },
        "outputId": "b32bdf3a-3c1e-4ad6-c3d0-49ae45b661dd"
      },
      "cell_type": "code",
      "source": [
        "#train for image size256x256\n",
        "learn.set_data(get_data(256, 10))\n",
        "\n",
        "learn.freeze()\n",
        "learn.fit(lr, 3, cycle_len=1, cycle_mult=2)\n",
        "\n",
        "learn.unfreeze()\n",
        "learn.fit(lr, 3, cycle_len=1, cycle_mult=2)"
      ],
      "execution_count": 0,
      "outputs": [
        {
          "output_type": "display_data",
          "data": {
            "application/vnd.jupyter.widget-view+json": {
              "model_id": "e824d85476d54977980410ab25f112d4",
              "version_minor": 0,
              "version_major": 2
            },
            "text/html": [
              "<p>Failed to display Jupyter Widget of type <code>HBox</code>.</p>\n",
              "<p>\n",
              "  If you're reading this message in the Jupyter Notebook or JupyterLab Notebook, it may mean\n",
              "  that the widgets JavaScript is still loading. If this message persists, it\n",
              "  likely means that the widgets JavaScript library is either not installed or\n",
              "  not enabled. See the <a href=\"https://ipywidgets.readthedocs.io/en/stable/user_install.html\">Jupyter\n",
              "  Widgets Documentation</a> for setup instructions.\n",
              "</p>\n",
              "<p>\n",
              "  If you're reading this message in another frontend (for example, a static\n",
              "  rendering on GitHub or <a href=\"https://nbviewer.jupyter.org/\">NBViewer</a>),\n",
              "  it may mean that your frontend doesn't currently support widgets.\n",
              "</p>\n"
            ],
            "text/plain": [
              "HBox(children=(IntProgress(value=0, description='Epoch', max=7), HTML(value='')))"
            ]
          },
          "metadata": {
            "tags": []
          }
        },
        {
          "output_type": "stream",
          "text": [
            " 23%|██▎       | 367/1620 [01:57<06:39,  3.13it/s, loss=0.102]"
          ],
          "name": "stdout"
        }
      ]
    },
    {
      "metadata": {
        "id": "IDhPw0kpMAW9",
        "colab_type": "code",
        "colab": {
          "autoexec": {
            "startup": false,
            "wait_interval": 0
          }
        }
      },
      "cell_type": "code",
      "source": [
        "learn.sched.plot_loss()"
      ],
      "execution_count": 0,
      "outputs": []
    },
    {
      "metadata": {
        "id": "-Wtk1TCAL_Rh",
        "colab_type": "text"
      },
      "cell_type": "markdown",
      "source": [
        "fastai has another very good feature called Test Time Augmentation (TTA). The dea is simple; apply simple augmentation on each test image to generate five copies of it, and then do the prediction for each copy. You can average these prediction to get a significant(1-2%) decrease in error.\n",
        "\n",
        "So we have trained our first model, let's see how well it performs on validation set using TTA."
      ]
    },
    {
      "metadata": {
        "id": "I-lrpCqZMDDN",
        "colab_type": "code",
        "colab": {
          "autoexec": {
            "startup": false,
            "wait_interval": 0
          }
        }
      },
      "cell_type": "code",
      "source": [
        "probs = learn.predict() #returns prediction without TTA\n",
        "f2_without_TTA =f2(probs, data.val_y)\n",
        "probs,y = learn.TTA()\n",
        "probs = np.mean(probs, axis=0)\n",
        "f2_with_TTA = f2(probs, y)\n",
        "print(f\"F2 Score without TTA:{f2_without_TTA},   and with TTA:{f2_with_TTA}\")"
      ],
      "execution_count": 0,
      "outputs": []
    },
    {
      "metadata": {
        "id": "ooJvHPurMFUa",
        "colab_type": "code",
        "colab": {
          "autoexec": {
            "startup": false,
            "wait_interval": 0
          }
        }
      },
      "cell_type": "code",
      "source": [
        "learn.save('resnet34.weights.1')"
      ],
      "execution_count": 0,
      "outputs": []
    },
    {
      "metadata": {
        "id": "fPFBGx9dMGkD",
        "colab_type": "code",
        "colab": {
          "autoexec": {
            "startup": false,
            "wait_interval": 0
          }
        }
      },
      "cell_type": "code",
      "source": [
        "learn.load('resnet34.weights.1')"
      ],
      "execution_count": 0,
      "outputs": []
    },
    {
      "metadata": {
        "id": "0Zyba_DeMIPS",
        "colab_type": "text"
      },
      "cell_type": "markdown",
      "source": [
        "## Preparing our first submission\n",
        "In our submission file, we need to place predicted labels against each image. Each image can belong to more than one class.\n",
        "\n",
        "file_10770,agriculture clear cultivation primary road\n",
        "test_26732,agriculture clear cultivation haze primary\n",
        "If you look at an example of predictions from our validation set, you will see our original labels are in the form of 1's, 0's, but our predictions are floating point numbers. So, we need to pick a threshold for our predicts to be included in submission files (0.66 for below example). op_th function tries multiple threshold in a given range and returns the one which maximizes the F2 score."
      ]
    },
    {
      "metadata": {
        "id": "qmBb0FqWMLnd",
        "colab_type": "code",
        "colab": {
          "autoexec": {
            "startup": false,
            "wait_interval": 0
          }
        }
      },
      "cell_type": "code",
      "source": [
        "print(probs[0])\n",
        "print(y[0])"
      ],
      "execution_count": 0,
      "outputs": []
    },
    {
      "metadata": {
        "id": "d0A4_X-iMM9F",
        "colab_type": "code",
        "colab": {
          "autoexec": {
            "startup": false,
            "wait_interval": 0
          }
        }
      },
      "cell_type": "code",
      "source": [
        "threshold = opt_th(probs, y)\n",
        "print(threshold)"
      ],
      "execution_count": 0,
      "outputs": []
    },
    {
      "metadata": {
        "id": "WCQG_hJQMPjN",
        "colab_type": "code",
        "colab": {
          "autoexec": {
            "startup": false,
            "wait_interval": 0
          }
        }
      },
      "cell_type": "code",
      "source": [
        "%time test_preds, _ = learn.TTA(is_test=True)\n",
        "preds = np.mean(test_preds, axis=0)\n",
        "classes = np.array(data.classes)\n",
        "res = np.array([\" \".join(classes[(np.where(pp>threshold))]) for pp in preds])\n",
        "filenames = np.array([os.path.basename(fn).split('.')[0] for fn in data.test_ds.fnames])\n",
        "frame=pd.DataFrame(res, index=filenames, columns=['tags'])\n",
        "frame.to_csv(f'{outputPath}planet_amazon_restnet34_submission1.csv', index_label='image_name')"
      ],
      "execution_count": 0,
      "outputs": []
    },
    {
      "metadata": {
        "id": "pCZNb79XMQ7F",
        "colab_type": "text"
      },
      "cell_type": "markdown",
      "source": [
        "## Ensembling\n",
        "Instead of training one model, we will be training multiple models and then averaging their prediction. This techniques is always employed to get more accuracy on data set"
      ]
    },
    {
      "metadata": {
        "id": "cRLb-UN5MTQe",
        "colab_type": "code",
        "colab": {
          "autoexec": {
            "startup": false,
            "wait_interval": 0
          }
        }
      },
      "cell_type": "code",
      "source": [
        "def get_ensumble(nmodels):\n",
        "    models = list()\n",
        "    \n",
        "    for i in range(nmodels):\n",
        "        print(f'-----Training model: {i+1}--------')\n",
        "        val_idx = get_cv_idxs(n, val_pct=0.1, seed=12345) #use 10% of train data as val data\n",
        "        \n",
        "        data = get_data_ens(64, i, val_idx)\n",
        "        learn = ConvLearner.pretrained(f_model, data, metrics=metrics)\n",
        "        print('training for 64x64')\n",
        "        learn.fit(lr, 2, cycle_len=1, cycle_mult=2)\n",
        "        learn.unfreeze()\n",
        "        learn.fit(lrs, 2, cycle_len=1, cycle_mult=2)\n",
        "        \n",
        "        print('training for 128x128')\n",
        "        learn.set_data(get_data_ens(128, i, val_idx))\n",
        "        learn.freeze()\n",
        "        learn.fit(lr, 2, cycle_len=1, cycle_mult=2)\n",
        "        learn.unfreeze()\n",
        "        learn.fit(lrs, 2, cycle_len=1, cycle_mult=2)\n",
        "        \n",
        "        print('training for 256x256')\n",
        "        learn.set_data(get_data_ens(256, i, val_idx))\n",
        "        learn.freeze()\n",
        "        learn.fit(lr, 2, cycle_len=1, cycle_mult=2)\n",
        "        learn.unfreeze()\n",
        "        learn.fit(lrs, 2, cycle_len=1, cycle_mult=2)\n",
        "        \n",
        "        \n",
        "        learn.save(f'ensem_model_{i}.weights')\n",
        "        np.savez_compressed(f'{path}models/ensem_model_{i}_validx', val_idx=val_idx)\n",
        "        models.append(learn)\n",
        "        print(f'-----Training of model {i+1} complete----')\n",
        "    return models\n",
        "        \n",
        "    \n",
        "def get_data_ens(img_sz, model_index, val_idx):\n",
        "    return  ImageClassifierData.from_csv(path, 'train-jpg', f'{path}train_v2.csv', bs, get_transform(model_index, img_sz), suffix='.jpg', val_idxs=val_idx, test_name='test-jpg')\n",
        "\n",
        "    \n",
        "    \n",
        "def get_transform(index, img_sz):\n",
        "    f_model=resnet34\n",
        "    index = (index%5)\n",
        "    print(f'get_transform--{index}: {img_sz}')\n",
        "    tfms = [\n",
        "        tfms_from_model(f_model, img_sz, aug_tfms=transforms_basic, max_zoom=1.05),\n",
        "        tfms_from_model(f_model, img_sz, aug_tfms=transforms_side_on, max_zoom=1.05),\n",
        "        tfms_from_model(f_model, img_sz, aug_tfms=transforms_top_down, max_zoom=1.05),\n",
        "        tfms_from_model(f_model, img_sz, aug_tfms=transforms_top_down, max_zoom=1.1),\n",
        "        tfms_from_model(f_model, img_sz, aug_tfms=transforms_top_down, max_zoom=1.05, crop_type=CropType.RANDOM)]\n",
        "    return tfms[index]"
      ],
      "execution_count": 0,
      "outputs": []
    },
    {
      "metadata": {
        "id": "G8UzwefoMWW-",
        "colab_type": "code",
        "colab": {
          "autoexec": {
            "startup": false,
            "wait_interval": 0
          }
        }
      },
      "cell_type": "code",
      "source": [
        "%time ens = get_ensumble(2)"
      ],
      "execution_count": 0,
      "outputs": []
    },
    {
      "metadata": {
        "id": "AohDMmbWMX0S",
        "colab_type": "text"
      },
      "cell_type": "markdown",
      "source": [
        "### Preparing Submission"
      ]
    },
    {
      "metadata": {
        "id": "iXuDPiO6MZpA",
        "colab_type": "code",
        "colab": {
          "autoexec": {
            "startup": false,
            "wait_interval": 0
          }
        }
      },
      "cell_type": "code",
      "source": [
        "#Find optimized Threshold\n",
        "ens_val_probs=list()\n",
        "th_list=list()\n",
        "for mdl in ens:\n",
        "    val_probs, y=mdl.TTA()\n",
        "    val_probs=np.mean(val_probs, axis=0)\n",
        "    acc = f2(val_probs, y)\n",
        "    print (f'f2 Score: {acc}')\n",
        "    th =opt_th(val_probs, y)\n",
        "    th_list.append(th)\n",
        "    ens_val_probs.append(val_probs)\n",
        "print(th_list)   \n",
        "op_th = np.mean(th_list)\n",
        "print(op_th)"
      ],
      "execution_count": 0,
      "outputs": []
    },
    {
      "metadata": {
        "id": "WxZULYjBMbak",
        "colab_type": "code",
        "colab": {
          "autoexec": {
            "startup": false,
            "wait_interval": 0
          }
        }
      },
      "cell_type": "code",
      "source": [
        "#Prepare test predictions\n",
        "ens_test_probs = list()\n",
        "for mdl in ens:\n",
        "    test_probs,_ = mdl.TTA(is_test=True)\n",
        "    test_probs = np.mean(test_probs, axis=0)\n",
        "    ens_test_probs.append(test_probs)\n",
        "ens_test_probs = np.array(ens_test_probs)\n",
        "ens_test_probs = np.mean(ens_test_probs, axis=0)\n",
        "ens_test_probs.shape"
      ],
      "execution_count": 0,
      "outputs": []
    },
    {
      "metadata": {
        "id": "TfK2Vkk2MdCq",
        "colab_type": "code",
        "colab": {
          "autoexec": {
            "startup": false,
            "wait_interval": 0
          }
        }
      },
      "cell_type": "code",
      "source": [
        "#prepare the submission file\n",
        "classes = np.array(ens[0].data.classes)\n",
        "res = np.array([\" \".join(classes[(np.where(pp>op_th))]) for pp in ens_test_probs])\n",
        "filenames = np.array([os.path.basename(fn).split('.')[0] for fn in ens[0].data.test_ds.fnames])\n",
        "frame=pd.DataFrame(res, index=filenames, columns=['tags'])\n",
        "frame.to_csv(f'{outputPath}planet_amazon_restnet34_submission_ens.csv', index_label='image_name')"
      ],
      "execution_count": 0,
      "outputs": []
    },
    {
      "metadata": {
        "id": "LCuzjOteMe0u",
        "colab_type": "text"
      },
      "cell_type": "markdown",
      "source": [
        "## A Machine Learning model for calculating threshold\n",
        "When preparing submission, we used a threshold of ~0.2 to select classes for all of test images, but ideally each test image should have a separate threshold depending on the predictions values from model. I experimented with training ML model to find the better threshold but didn’t succeed. Here is the code."
      ]
    },
    {
      "metadata": {
        "id": "1XQk15k-oUF3",
        "colab_type": "text"
      },
      "cell_type": "markdown",
      "source": [
        ""
      ]
    },
    {
      "metadata": {
        "id": "PXkG4mlsMgyu",
        "colab_type": "code",
        "colab": {
          "autoexec": {
            "startup": false,
            "wait_interval": 0
          }
        }
      },
      "cell_type": "code",
      "source": [
        "from sklearn.linear_model import Ridge\n",
        "from sklearn.preprocessing import PolynomialFeatures\n",
        "from sklearn.pipeline import make_pipeline\n",
        "from sklearn.metrics import accuracy_score, mean_squared_error"
      ],
      "execution_count": 0,
      "outputs": []
    },
    {
      "metadata": {
        "id": "8CdmMB5DMi6z",
        "colab_type": "code",
        "colab": {
          "autoexec": {
            "startup": false,
            "wait_interval": 0
          }
        }
      },
      "cell_type": "code",
      "source": [
        "def get_optimized_threshold_list(x, y):\n",
        "    th_list = list()\n",
        "    for truth,  preds in zip(y, x):\n",
        "        steps = np.arange(0.1, 0.4, 0.01)\n",
        "        acc = np.array([accuracy_score(truth, (preds > th)) for th in steps])\n",
        "        th_list.append(steps[np.argmax(acc)])\n",
        "    return th_list\n",
        "                   \n",
        "                   \n",
        "def ml_model_threshold():\n",
        "    arr = np.load(f'{path}models/preds_probs.npz')\n",
        "    x = arr['probs']\n",
        "    y = arr['y']\n",
        "    th_list= get_optimized_threshold_list(x, y)\n",
        "    model = make_pipeline(PolynomialFeatures(2), Ridge())\n",
        "    model.fit(x, th_list)\n",
        "    print (mean_squared_error(th_list, model.predict(x)))\n",
        "    return model"
      ],
      "execution_count": 0,
      "outputs": []
    },
    {
      "metadata": {
        "id": "UXS63b3nMkb1",
        "colab_type": "text"
      },
      "cell_type": "markdown",
      "source": [
        "### Submitting Machine Learning predicitons"
      ]
    },
    {
      "metadata": {
        "id": "alq4jCGqMmFy",
        "colab_type": "code",
        "colab": {
          "autoexec": {
            "startup": false,
            "wait_interval": 0
          }
        }
      },
      "cell_type": "code",
      "source": [
        "model = ml_model_threshold()"
      ],
      "execution_count": 0,
      "outputs": []
    },
    {
      "metadata": {
        "id": "NR2tDzRHMnnj",
        "colab_type": "code",
        "colab": {
          "autoexec": {
            "startup": false,
            "wait_interval": 0
          }
        }
      },
      "cell_type": "code",
      "source": [
        "classes = np.array(data.classes)\n",
        "op_th_ml = model.predict(preds)\n",
        "res = np.array([\" \".join(classes[(np.where(preds[i]>op_th_ml[i]))]) for i in range(len(preds))])\n",
        "filenames = np.array([os.path.basename(fn).split('.')[0] for fn in data.test_ds.fnames])\n",
        "frame=pd.DataFrame(res, index=filenames, columns=['tags'])\n",
        "frame.to_csv(f'{outputPath}planet_amazon_restnet34_submission2.csv', index_label='image_name')"
      ],
      "execution_count": 0,
      "outputs": []
    }
  ]
}