{
 "cells": [
  {
   "cell_type": "code",
   "execution_count": 1,
   "metadata": {
    "collapsed": true
   },
   "outputs": [],
   "source": [
    "# Put these at the top of every notebook, to get automatic reloading and inline plotting\n",
    "%reload_ext autoreload\n",
    "%autoreload 2\n",
    "%matplotlib inline"
   ]
  },
  {
   "cell_type": "code",
   "execution_count": 2,
   "metadata": {
    "collapsed": true
   },
   "outputs": [],
   "source": [
    "import numpy as np\n",
    "import random"
   ]
  },
  {
   "cell_type": "markdown",
   "metadata": {},
   "source": [
    "## Python Comprehension\n",
    "For more information:\n",
    "* [List Comprehension](https://docs.python.org/2/tutorial/datastructures.html#list-comprehensions)\n",
    "* [Dictionary Construction With zip()](http://www.bogotobogo.com/python/python_dictionary_comprehension_with_zip_from_list.php)\n",
    "* [CS231n - Python tutorials](http://cs231n.github.io/python-numpy-tutorial/)\n",
    "* [Function of \\*ARGS, \\*KWARGS](http://www.bogotobogo.com/python/python_functions_def.php)\n",
    "* [What does \\*\\* (double star/asterisk) and \\* (star/asterisk) do for parameters?](https://stackoverflow.com/questions/36901/what-does-double-star-asterisk-and-star-asterisk-do-for-parameters)\n",
    "\n",
    "Syntax\t    |  Location      |  Descruption      |\n",
    ":----------:|:--------------:|:------------------:\n",
    "func(value)\t|      Caller    | \tNormal argument: matched by position\n",
    "func(name=value) | Caller | Keyword argument: matched by name\n",
    "func(\\*sequence) |\tCaller\t|Pass all object in sequence as individual positional arguments\n",
    "func(\\*\\*dict)\t|Caller\t|Pass all key/value pairs in dict as individual keyword arguments\n",
    "def func(name)\t|Function |\tNormal argument: matched any passed value by position or name\n",
    "def func(name=value)\t|Function\t|Default argument value, if not passed in the call\n",
    "def func(\\*name)\t|Function\t|Matches and collects remaining positional arguments in a tuple\n",
    "def func(\\*\\*name)\t|Function\t|Matches and collects remaining keyword arguments in a dictionary\n",
    "def func(\\*args, name)\t|Function\t|Arguments that must be passed by keyword only in calls\n",
    "\n",
    "<center>Table from Learning Python by Mark Lutz, 2009.</center>"
   ]
  },
  {
   "cell_type": "code",
   "execution_count": 6,
   "metadata": {
    "collapsed": false
   },
   "outputs": [
    {
     "name": "stdout",
     "output_type": "stream",
     "text": [
      "A_raw:  [6 9 3 2 6 0 7 6 2 6]\n",
      "[1] A:  [16 19 13 12 16 10 17 16 12 16]\n",
      "[2] A:  [16 19 13 12 16 10 17 16 12 16]\n",
      "\n",
      "[16 19 13 12 16 10 17 16 12 16]\n"
     ]
    }
   ],
   "source": [
    "A_raw = np.random.randint(10, size=10)\n",
    "print('A_raw: ', A_raw)\n",
    "\n",
    "# [1] list\n",
    "A = []\n",
    "for i in A_raw:\n",
    "    A.append(i + 10)\n",
    "print('[1] A: ', np.asarray(A))\n",
    "\n",
    "# [2] list comprehension\n",
    "A = [i+10 for i in A_raw]\n",
    "print('[2] A: ', np.asarray(A))\n",
    "print()\n",
    "\n",
    "A = A_raw + 10\n",
    "print(A)"
   ]
  },
  {
   "cell_type": "code",
   "execution_count": 7,
   "metadata": {
    "collapsed": false
   },
   "outputs": [
    {
     "name": "stdout",
     "output_type": "stream",
     "text": [
      "raw:  {0: 1, 1: 4, 2: 6, 3: 4, 4: 4, 5: 7, 6: 9, 7: 8, 8: 7, 9: 9}\n",
      "<class 'dict'>\n",
      "dict_keys([0, 1, 2, 3, 4, 5, 6, 7, 8, 9])\n",
      "dict_values([1, 4, 6, 4, 4, 7, 9, 8, 7, 9])\n",
      "[1] D:  {0: 1, 1: 4, 2: 6, 3: 4, 4: 4, 5: 7, 6: 9, 7: 8, 8: 7, 9: 9}\n",
      "[2] D:  {0: 1, 1: 4, 2: 6, 3: 4, 4: 4, 5: 7, 6: 9, 7: 8, 8: 7, 9: 9}\n",
      "\n"
     ]
    }
   ],
   "source": [
    "D_raw = {k: random.randint(0,10) for k in range(10)}\n",
    "print('raw: ', D_raw)\n",
    "print(type(D_raw))\n",
    "print(D_raw.keys())\n",
    "print(D_raw.values())\n",
    "\n",
    "# [1] dictionary\n",
    "D = {}\n",
    "for k,v in D_raw.items():\n",
    "    D.update({k: v})\n",
    "print('[1] D: ', D)\n",
    "\n",
    "# [2] dictionary comprehsion\n",
    "D = {k: v for k,v in D_raw.items()}\n",
    "print('[2] D: ', D)\n",
    "print()"
   ]
  },
  {
   "cell_type": "code",
   "execution_count": 8,
   "metadata": {
    "collapsed": false
   },
   "outputs": [
    {
     "name": "stdout",
     "output_type": "stream",
     "text": [
      "[1] <class 'dict'> {'a': 0, 'b': 1, 'c': 2}\n",
      "[2] <class 'list'> [('a', 0), ('b', 1), ('c', 2)]\n",
      "[['a' '0']\n",
      " ['b' '1']\n",
      " ['c' '2']]\n",
      "rows:  ('a', 'b', 'c')\n",
      "cols:  (0, 1, 2)\n",
      "[3] <class 'dict'> {'a': 0, 'b': 1, 'c': 2}\n",
      "rows:  ('a', 'b', 'c')\n",
      "cols:  (0, 1, 2)\n",
      "[1] D:  {'A': 'aaa', 'B': 'bbb', 'C': 'ccc', 'D': 'ddd', 'E': 'eee', 'F': 'fff'}\n",
      "[2] D:  {'a': 0, 'b': 0, 'c': 0}\n"
     ]
    }
   ],
   "source": [
    "rows = ['a', 'b', 'c']\n",
    "cols = [0, 1, 2]\n",
    "# turn 2 lists into a dictionary\n",
    "D = dict(zip(rows, cols))\n",
    "print('[1]', type(D), D)\n",
    "\n",
    "D = list(zip(rows, cols))\n",
    "print('[2]', type(D), D)\n",
    "print(np.asarray(D))\n",
    "\n",
    "# convert back to 2 lists\n",
    "rows, cols = zip(*D)\n",
    "print('rows: ', rows)\n",
    "print('cols: ', cols)\n",
    "\n",
    "D = { k:v for (k,v) in zip(rows, cols)}\n",
    "print('[3]', type(D), D)\n",
    "\n",
    "# turn dictionary into rows and columns\n",
    "rows, cols = list(zip(*D.items()))\n",
    "print('rows: ', rows)\n",
    "print('cols: ', cols)\n",
    "\n",
    "D = {x.upper():x*3 for x in 'abcdef'}\n",
    "print('[1] D: ', D)\n",
    "\n",
    "D = dict.fromkeys(['a', 'b', 'c'], 0)\n",
    "print('[2] D: ', D)"
   ]
  },
  {
   "cell_type": "code",
   "execution_count": 10,
   "metadata": {
    "collapsed": false
   },
   "outputs": [
    {
     "name": "stdout",
     "output_type": "stream",
     "text": [
      "[1] condition:  [0.55 0.69]\n",
      "[2] condition:  [False False  True  True False]\n",
      "0.55000\n",
      "-0.01\n",
      "-0.01\n"
     ]
    }
   ],
   "source": [
    "x = np.array(['a', 'b', 'c', 'd', 'e'])\n",
    "y = np.array([0.3, 0.2, 0.55, 0.69, 0.1])\n",
    "condition = y[y>0.5]\n",
    "print('[1] condition: ', condition)\n",
    "condition = (y>0.5)\n",
    "print('[2] condition: ', condition)\n",
    "\n",
    "D = {xx: yy if c else yy+0.5 for (c, xx, yy) in zip(condition, x, y)}\n",
    "D\n",
    "print('%.05f' % D['c'])\n",
    "\n",
    "print(D.setdefault('f', -0.01))\n",
    "print(D['f'])"
   ]
  },
  {
   "cell_type": "code",
   "execution_count": null,
   "metadata": {
    "collapsed": true
   },
   "outputs": [],
   "source": []
  }
 ],
 "metadata": {
  "kernelspec": {
   "display_name": "Python [tf-py36]",
   "language": "python",
   "name": "Python [tf-py36]"
  },
  "language_info": {
   "codemirror_mode": {
    "name": "ipython",
    "version": 3
   },
   "file_extension": ".py",
   "mimetype": "text/x-python",
   "name": "python",
   "nbconvert_exporter": "python",
   "pygments_lexer": "ipython3",
   "version": "3.6.2"
  }
 },
 "nbformat": 4,
 "nbformat_minor": 0
}
